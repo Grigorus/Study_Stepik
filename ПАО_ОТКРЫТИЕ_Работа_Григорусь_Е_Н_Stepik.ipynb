{
  "nbformat": 4,
  "nbformat_minor": 0,
  "metadata": {
    "kernelspec": {
      "display_name": "Python 3",
      "language": "python",
      "name": "python3"
    },
    "language_info": {
      "codemirror_mode": {
        "name": "ipython",
        "version": 3
      },
      "file_extension": ".py",
      "mimetype": "text/x-python",
      "name": "python",
      "nbconvert_exporter": "python",
      "pygments_lexer": "ipython3",
      "version": "3.6.8"
    },
    "colab": {
      "name": " ПАО ОТКРЫТИЕ Работа Григорусь Е.Н. Stepik",
      "provenance": [],
      "collapsed_sections": [],
      "include_colab_link": true
    }
  },
  "cells": [
    {
      "cell_type": "markdown",
      "metadata": {
        "id": "view-in-github",
        "colab_type": "text"
      },
      "source": [
        "<a href=\"https://colab.research.google.com/github/Grigorus/Study_Stepik/blob/main/%D0%9F%D0%90%D0%9E_%D0%9E%D0%A2%D0%9A%D0%A0%D0%AB%D0%A2%D0%98%D0%95_%D0%A0%D0%B0%D0%B1%D0%BE%D1%82%D0%B0_%D0%93%D1%80%D0%B8%D0%B3%D0%BE%D1%80%D1%83%D1%81%D1%8C_%D0%95_%D0%9D_Stepik.ipynb\" target=\"_parent\"><img src=\"https://colab.research.google.com/assets/colab-badge.svg\" alt=\"Open In Colab\"/></a>"
      ]
    },
    {
      "cell_type": "markdown",
      "metadata": {
        "id": "U7hoFvcehdnc"
      },
      "source": [
        "## Домашнее задание 1: Введение в Python"
      ]
    },
    {
      "cell_type": "markdown",
      "metadata": {
        "id": "0cQ01NCnkysR"
      },
      "source": [
        "## Light версия"
      ]
    },
    {
      "cell_type": "markdown",
      "metadata": {
        "id": "bW_kKRKthdn7"
      },
      "source": [
        "### Задача 1\n",
        "\n",
        "Считайте с входящей строки два целых числа и выведите их сумму, разность, произведение."
      ]
    },
    {
      "cell_type": "code",
      "metadata": {
        "id": "9kDLPs9Bk-hr"
      },
      "source": [
        " a = input (\"введите первое целое число\") \n",
        " b = input (\"введите второе целое число\")\n",
        "print (\"сумма этих чисел равна\", int(a)+int(b))\n",
        "print (\"разность этих чисел равна\", int(a)-int(b))\n",
        "print (\"а произведение этих чисел равно\", int(a)*int(b))"
      ],
      "execution_count": null,
      "outputs": []
    },
    {
      "cell_type": "markdown",
      "metadata": {
        "id": "PguJdnEqhdoI"
      },
      "source": [
        "### Задача 2\n",
        "\n",
        "Дан ряд целых чисел от 10 до 25 включительно. Используя цикл for выведите на экран сумму двух последовательно идущих чисел.\n",
        "\n",
        "\n",
        "**Пример**: \n",
        "\n",
        "Для ряда от 2 до 6 включительно выдача выглядит так: \n",
        "\n",
        "5\n",
        "\n",
        "7\n",
        "\n",
        "9\n",
        "\n",
        "11\n"
      ]
    },
    {
      "cell_type": "code",
      "metadata": {
        "id": "uO4IKitaw9ag"
      },
      "source": [
        "for i in range (10, 25):\n",
        "    print (i*2+1)"
      ],
      "execution_count": null,
      "outputs": []
    },
    {
      "cell_type": "markdown",
      "metadata": {
        "id": "CZpydHtThdoR"
      },
      "source": [
        "### Задача 3\n",
        "\n",
        "Для ряда целых чисел от 100 до 150 включительно выведите на экран только те, что делятся на 5 без остатка."
      ]
    },
    {
      "cell_type": "code",
      "metadata": {
        "id": "nTKoS5uXzgFV"
      },
      "source": [
        "for i in range (100, 150):\n",
        "  if (i%5) == 0:\n",
        "    print (i)\n"
      ],
      "execution_count": null,
      "outputs": []
    },
    {
      "cell_type": "markdown",
      "metadata": {
        "id": "_L4Bd414hdog"
      },
      "source": [
        "### Задача 4\n",
        "\n",
        "Считайте с входящей строки целое положительное число и сохраните его в переменную N. Используя конструкцию if...else выведите на экран результат в зависимости от условий:\n",
        "\n",
        "* Если N нечетное, то выведите на экран \"N нечетное\"\n",
        "* Если N четное и входит в интервал от 5 до 10 включительно, выведите на экран \"N четное и принадлежит интервалу [5, 10]\"\n",
        "* Если N четное и больше 10, выведите на экран \"N четное и N > 10\"\n",
        "* Если N четное и меньше 5, выведите на экран \"N четное и N < 5\""
      ]
    },
    {
      "cell_type": "code",
      "metadata": {
        "id": "6425u_j03u0G",
        "colab": {
          "base_uri": "https://localhost:8080/",
          "height": 53
        },
        "outputId": "604dca25-ec6a-4b08-c643-024a68791692"
      },
      "source": [
        "\n",
        "N = input (\"введите целое положительное число\")\n",
        "N = float(N)\n",
        "while (N-int(N) > 0 or (N<0)) == True:\n",
        "     print (\"Вы ввели число не из требуемого множества\")\n",
        "     N = input (\"Повторите введение целого положительного числа\")\n",
        "     N = float(N)\n",
        "if (N%2) == 1:\n",
        "  print (\"Число\", N, \"нечётное\")\n",
        "elif ((N%2) == 0 and (6.0<= N <= 10.0)):\n",
        "  print (N, \"четное и принадлежит интервалу [5, 10]\")\n",
        "elif ((N%2) == 0 and (N>10.0)):\n",
        "    print (N, \"чётное и больше 10\")\n",
        "elif (N<5.0):\n",
        "      print (N, \"чётное и меньше 5\")\n",
        "\n",
        "\n"
      ],
      "execution_count": null,
      "outputs": [
        {
          "output_type": "stream",
          "text": [
            "введите целое положительное число7\n",
            "Число 7.0 нечётное\n"
          ],
          "name": "stdout"
        }
      ]
    },
    {
      "cell_type": "markdown",
      "metadata": {
        "id": "WQweBQ8nhdol"
      },
      "source": [
        "### Задача 5\n",
        "\n",
        "Используя цикл while, посчитайте и выведите на экран сумму всех целых чисел от 15 до 22 включительно.\n"
      ]
    },
    {
      "cell_type": "code",
      "metadata": {
        "id": "UHJnI8NDIY-4",
        "colab": {
          "base_uri": "https://localhost:8080/",
          "height": 35
        },
        "outputId": "7e9d96ea-1aa0-4c42-fef4-23633bb65035"
      },
      "source": [
        "N = 15\n",
        "S = 0\n",
        "while (N<=22):\n",
        "  S=S+N\n",
        "  N=N+1\n",
        "print (\"Сумма целых чисел от 15 до 22 включительно равна\", S)"
      ],
      "execution_count": null,
      "outputs": [
        {
          "output_type": "stream",
          "text": [
            "Сумма целых чисел от 15 до 22 включительно равна 148\n"
          ],
          "name": "stdout"
        }
      ]
    },
    {
      "cell_type": "markdown",
      "metadata": {
        "id": "YhJKiRAchdow"
      },
      "source": [
        "### Задача 6\n",
        "\n",
        "Используя цикл for, найдите сумму всех элементов заданного списка. (Без использования встроенных функций sum и т.д.)"
      ]
    },
    {
      "cell_type": "code",
      "metadata": {
        "id": "Im5W6TNGhdo6"
      },
      "source": [
        "my_list = [56, 23, 67, 45, 67, 2, 47, 158, 31, 34, 78, 23, 78, 23, 89, 23, 36]\n",
        "#count_elements = (len(my_list)) из любопытства посчитаем длину списка (вдруг бы он был гигантским)\n",
        "#print (count_elements)  проверим как работает len\n",
        "Sum_list = 0 #в эту переменную будем складывать всех членов списка в кучу.\n",
        "for i in my_list:\n",
        "  Sum_list = Sum_list + i\n",
        "print (\"Сумма элементов заданного списка\", Sum_list)"
      ],
      "execution_count": null,
      "outputs": []
    },
    {
      "cell_type": "markdown",
      "metadata": {
        "id": "wIZELo0mhdpU"
      },
      "source": [
        "### Задача 7\n",
        "\n",
        "Используя цикл (любой) найдите значение максимального элемента списка из предыдущего задания. (Без использования встроенных функций max и т.д.) Можно использовать встроенные методы списков (любые). \n",
        "\n",
        "P.S.: не стесняйтесь гуглить :)\n",
        "\n",
        "P.S.2: гуглить нужно фразу \"алгоритм поиска максимального элемента массива\"\n",
        "\n",
        "Пример: для списка [3, 4, 1, 7, 2] значением максимального элемента является число 7"
      ]
    },
    {
      "cell_type": "code",
      "metadata": {
        "id": "g_zps-mDWAUl",
        "colab": {
          "base_uri": "https://localhost:8080/",
          "height": 35
        },
        "outputId": "03d756d9-f22c-4f45-9663-77a48cc5e640"
      },
      "source": [
        "my_list = [56, 23, 67, 45, 67, 2, 47, 158, 31, 34, 78, 23, 78, 23, 89, 23, 36]\n",
        "Max_bidon = 0\n",
        "for i in my_list:\n",
        "  if Max_bidon < i:\n",
        "    Max_bidon = i\n",
        "print (\"Наибольшее число из этого списка\", Max_bidon)\n"
      ],
      "execution_count": null,
      "outputs": [
        {
          "output_type": "stream",
          "text": [
            "Наибольшее число из этого списка 158\n"
          ],
          "name": "stdout"
        }
      ]
    },
    {
      "cell_type": "markdown",
      "metadata": {
        "id": "omPfU7u9hdpi"
      },
      "source": [
        "### Задача 8\n",
        "\n",
        "Создайте словарь, соответствующий следующему описанию: \n",
        "    \n",
        "В честь 8 марта начальник отдела Валера решил принести на работу коробку конфет и угостить коллег :) Красотка Наташа съела две конфеты, ее подруга Алина - целых три, разработчик Марат унес с собой в соседний опен-спейс целых пятнадцать, чтобы поделиться со своей командой, менеджер проекта Лев проходил мимо и съел одну конфету, а сам Валера, будучи сторонником здорового образа жизни, ни съел ни одной.\n",
        "\n",
        "P.S. все совпадения случайны :)"
      ]
    },
    {
      "cell_type": "code",
      "metadata": {
        "id": "mdEKn0yLZt0U"
      },
      "source": [
        "Work_Dict = { \"Валера\"  : \"0\",\n",
        "              \"Наташа\"  : \"2\",\n",
        "              \"Алина\"   : \"3\",\n",
        "              \" Лев\"    : \"1\",\n",
        "              \"Марат\"   : \"15\"}"
      ],
      "execution_count": null,
      "outputs": []
    },
    {
      "cell_type": "markdown",
      "metadata": {
        "id": "UUK9d5hUhdpz"
      },
      "source": [
        "### Задача 9\n",
        "\n",
        "Добавьте в словарь из предыдущего задания данные для студента Ромы, который работает неполный рабочий день, и, придя на работу после экзамена, с удовольствием съел 4 конфеты.\n",
        "\n",
        "P.S. используйте встроенный метод .update"
      ]
    },
    {
      "cell_type": "code",
      "metadata": {
        "id": "ZwYhTcJRe-Kf",
        "colab": {
          "base_uri": "https://localhost:8080/",
          "height": 53
        },
        "outputId": "2043d2d6-bafc-4a64-ebf1-79a99fceb82c"
      },
      "source": [
        "Work_Dict = { \"Валера\"  : \"0\",\n",
        "              \"Наташа\"  : \"2\",\n",
        "              \"Алина\"   : \"3\",\n",
        "              \" Лев\"    : \"1\",\n",
        "              \"Марат\"   : \"15\"}\n",
        "print (Work_Dict)#смотрим словарь, в котором Ромы ещё нет\n",
        "#Work_Dict [\"Рома\"] = \"4\"  альтернативный способ добавить в словарь пару ключ-значение\n",
        "Roma_com = { \"Рома\" : \"4\"} #создаём ещё один словарь\n",
        "Work_Dict.update(Roma_com)# выполняем задание как положено (слияние словарей)\n",
        "print (Work_Dict)  #проверяем : Рома пришёл"
      ],
      "execution_count": null,
      "outputs": [
        {
          "output_type": "stream",
          "text": [
            "{'Валера': '0', 'Наташа': '2', 'Алина': '3', ' Лев': '1', 'Марат': '15'}\n",
            "{'Валера': '0', 'Наташа': '2', 'Алина': '3', ' Лев': '1', 'Марат': '15', 'Рома': '4'}\n"
          ],
          "name": "stdout"
        }
      ]
    },
    {
      "cell_type": "markdown",
      "metadata": {
        "id": "vpQOcxmhhdp9"
      },
      "source": [
        "## Pro версия"
      ]
    },
    {
      "cell_type": "markdown",
      "metadata": {
        "id": "g9pd3inChdqC"
      },
      "source": [
        "### Задача 1\n",
        "\n",
        "Выведите на экран следующий паттерн:\n",
        "\n",
        "@\n",
        "\n",
        "@ @\n",
        "\n",
        "@ @ @\n",
        "\n",
        "@ @ @ @ @\n",
        "\n",
        "Обратите внимание на пробел между символами"
      ]
    },
    {
      "cell_type": "code",
      "metadata": {
        "id": "4cxBBm_A63Az",
        "colab": {
          "base_uri": "https://localhost:8080/",
          "height": 90
        },
        "outputId": "ea51f364-842c-4fea-8449-b05c5ffadd79"
      },
      "source": [
        "print (\"@\")\n",
        "print (\"@\", \"@\", sep=\" \")\n",
        "print (\"@\", \"@\", \"@\", sep=\" \")\n",
        "print (\"@ @ @ @ @\")# для разнообразия"
      ],
      "execution_count": null,
      "outputs": [
        {
          "output_type": "stream",
          "text": [
            "@\n",
            "@ @\n",
            "@ @ @\n",
            "@ @ @ @ @\n"
          ],
          "name": "stdout"
        }
      ]
    },
    {
      "cell_type": "markdown",
      "metadata": {
        "id": "Vh7SqVB5hdqL"
      },
      "source": [
        "### Задача 2\n",
        "\n",
        "Выведите на экран следующий паттерн:\n",
        "\n",
        "1\n",
        "\n",
        "2 2 \n",
        "\n",
        "3 3 3 \n",
        "\n",
        "4 4 4 4 \n",
        "\n",
        "5 5 5 5 5\n",
        "\n",
        "6 6 6 6\n",
        "\n",
        "7 7 7\n",
        "\n",
        "8 8\n",
        "\n",
        "9\n",
        "\n",
        "Обратите внимание на пробел между символами"
      ]
    },
    {
      "cell_type": "code",
      "metadata": {
        "id": "-GGPC9vH8lWD",
        "colab": {
          "base_uri": "https://localhost:8080/",
          "height": 181
        },
        "outputId": "47e8a941-4e88-4bb9-f6fd-7135fddb8ca1"
      },
      "source": [
        "print (\"1\")\n",
        "print (\"2 2\")\n",
        "print (\"3\", \"3\", \"3\", sep=\" \")\n",
        "print (\"4 4 4 4\")\n",
        "print (\"5 5 5 5 5\")\n",
        "print (\"6 6 6 6\")\n",
        "print (\"7\", \"7\", \"7\", sep=\" \")\n",
        "print (\"8 8\")\n",
        "print (\"9\")"
      ],
      "execution_count": null,
      "outputs": [
        {
          "output_type": "stream",
          "text": [
            "1\n",
            "2 2\n",
            "3 3 3\n",
            "4 4 4 4\n",
            "5 5 5 5 5\n",
            "6 6 6 6\n",
            "7 7 7\n",
            "8 8\n",
            "9\n"
          ],
          "name": "stdout"
        }
      ]
    },
    {
      "cell_type": "markdown",
      "metadata": {
        "id": "IMoF_J7AhdqT"
      },
      "source": [
        "### Задача 3\n",
        "\n",
        "Используя цикл while, выведите на экран таблицу умножения для числа 7.\n",
        "\n",
        "**Пример:**\n",
        "    \n",
        "Для числе 5 выдача выглядит так:\n",
        "    \n",
        "5 * 1 = 5\n",
        "\n",
        "5 * 2 = 10\n",
        "\n",
        "5 * 3 = 15\n",
        "\n",
        "5 * 4 = 20\n",
        "\n",
        "5 * 5 = 25\n",
        "\n",
        "...\n",
        "\n",
        "5 * 9 = 45"
      ]
    },
    {
      "cell_type": "code",
      "metadata": {
        "id": "y-FX6_y3-6Ws",
        "colab": {
          "base_uri": "https://localhost:8080/",
          "height": 181
        },
        "outputId": "19f4b1d1-3296-4e9c-84da-a86d0c4ae539"
      },
      "source": [
        "i=1\n",
        "while (i<=9):\n",
        "  print (\"7*\",i,\"=\",(7*i), sep=\"\")\n",
        "  i+=1"
      ],
      "execution_count": null,
      "outputs": [
        {
          "output_type": "stream",
          "text": [
            "7*1=7\n",
            "7*2=14\n",
            "7*3=21\n",
            "7*4=28\n",
            "7*5=35\n",
            "7*6=42\n",
            "7*7=49\n",
            "7*8=56\n",
            "7*9=63\n"
          ],
          "name": "stdout"
        }
      ]
    },
    {
      "cell_type": "markdown",
      "metadata": {
        "id": "rvEbKNeIhdqY"
      },
      "source": [
        "### Задача 4\n",
        "\n",
        "Представьте, что вы подбрасываете два кубика одновременно. Считайте с входящей строки два целых числа d1 и d2. Проверьте, соответсуют ли введенные числа интервалу значений для кубика. Если нет, то выведите на экран строку \"Ошибка! Значение на кубике (1 или 2, вставьте подходящее значение) не входит в интервал [1, 6]\". В противном случае посчитайте сумму выпавших значений. Если сумма равна 7 или 11, выведите на экран \"Я победил!!!\". Если сумма равна 2, 3 или 12, то выведите на экран \"Я проиграл :(\". Во всех остальных случаях выведите на экран сумму значений.\n"
      ]
    },
    {
      "cell_type": "code",
      "metadata": {
        "id": "MMG8Sj-0BVRt",
        "colab": {
          "base_uri": "https://localhost:8080/",
          "height": 72
        },
        "outputId": "d5484e91-042d-470a-e440-c300da6d6e3a"
      },
      "source": [
        "\n",
        "d1 = input (\"Ведите число точек на грани первого кубика от 1 до 6\")\n",
        "d1=int(d1)\n",
        "if (d1<1 or d1>6):\n",
        "  kubas=1\n",
        "  print (\"Ошибка! Число на кубике\", kubas, \"не входит в интервал [1, 6]\", sep=\" \")\n",
        "else:\n",
        "  d2 = input (\"Ведите число точек на грани второго кубика от 1 до 6\")\n",
        "  d2=int(d2)\n",
        "  if (d2<1 or d2>6):\n",
        "    kubas=2\n",
        "    print (\"Ошибка! Число на кубике\", kubas, \"не входит в интервал [1, 6]\", sep=\" \")\n",
        "  else:\n",
        "      if ((d1+d2)==7 or (d1+d2)==11):\n",
        "        print (\"Я победил!!!\")\n",
        "      elif ((d1+d2) == 2 or (d1+d2)==3 or (d1+d2)==12):\n",
        "        print (\"Я проиграл :(\")\n",
        "      else:\n",
        "        print (\"Сумма значений\", d1+d2, sep=\"=\" )\n"
      ],
      "execution_count": null,
      "outputs": [
        {
          "output_type": "stream",
          "text": [
            "Ведите число точек на грани первого кубика от 1 до 66\n",
            "Ведите число точек на грани второго кубика от 1 до 65\n",
            "Я победил!!!\n"
          ],
          "name": "stdout"
        }
      ]
    },
    {
      "cell_type": "markdown",
      "metadata": {
        "id": "OTSU9QTLhdqe"
      },
      "source": [
        "### Задача 5\n",
        "\n",
        "Напишите код, который ищет все числа в интервале от 3000 до 4300 включительно, делящиеся на 11, но не делящиеся на 5. Выведите на экран все найденные числа."
      ]
    },
    {
      "cell_type": "code",
      "metadata": {
        "id": "RZ5nnxqWTab0"
      },
      "source": [
        "  for i in range(3000, 4300):\n",
        "    if (i%11==0 and i%5!=0):\n",
        "      print (i)\n",
        "    "
      ],
      "execution_count": null,
      "outputs": []
    },
    {
      "cell_type": "markdown",
      "metadata": {
        "id": "m-pYH0xDhdqk"
      },
      "source": [
        "### Задача 6\n",
        "\n",
        "Используя циклы, напишите код, который создает список (list) путем конкатенации значений данного листа с целыми числами от 1 до (произвольного) n включительно.\n",
        "\n",
        "Пример:\n",
        "\n",
        "для списка [\"сосиски\", \"горчица\"] при n = 3 результат должен выглядеть так:\n",
        "\n",
        "['сосиски$\\_$1', 'горчица$\\_$1', 'сосиски$\\_2$', 'горчица$\\_$2', 'сосиски$\\_$3', 'горчица$\\_$3']"
      ]
    },
    {
      "cell_type": "code",
      "metadata": {
        "id": "Eqz3zAL-hdqq",
        "colab": {
          "base_uri": "https://localhost:8080/",
          "height": 53
        },
        "outputId": "b2554aba-0d68-4f7a-9626-aa42e6c0a9e6"
      },
      "source": [
        "sample_list = [\"мандаринки\", \"киви\", \"лимон\"]\n",
        "super_list=[]\n",
        "chis = input(\"Введите целое положительное число\")\n",
        "chis = int(chis)\n",
        "for i in range(1, chis+1):\n",
        "  new_list = [sample_list[0]+\"_\"+str(i), sample_list[1]+\"_\"+str(i),sample_list[2]+\"_\"+str(i)]\n",
        "  super_list.extend(new_list)\n",
        "print (super_list)"
      ],
      "execution_count": null,
      "outputs": [
        {
          "output_type": "stream",
          "text": [
            "Введите целое положительное число3\n",
            "['мандаринки_1', 'киви_1', 'лимон_1', 'мандаринки_2', 'киви_2', 'лимон_2', 'мандаринки_3', 'киви_3', 'лимон_3']\n"
          ],
          "name": "stdout"
        }
      ]
    },
    {
      "cell_type": "markdown",
      "metadata": {
        "id": "WtwsV6BRhdrE"
      },
      "source": [
        "### Задача 7\n",
        "\n",
        "Напишите код, который считает количество элементов в заданном списке до тех пор, пока не встретится элемент типа словарь.\n",
        "\n",
        "Пример:\n",
        "\n",
        "для списка [3, \"котики\", 0.45, 5, {'котики' : 2, 'слоники' : 9}, \"слоники\", 34] на выходе должны получить число 4"
      ]
    },
    {
      "cell_type": "code",
      "metadata": {
        "id": "m5iv-Hj9hdrM",
        "colab": {
          "base_uri": "https://localhost:8080/",
          "height": 35
        },
        "outputId": "0502de09-8f09-40de-8eef-89d12448eea5"
      },
      "source": [
        "list_for_pro_task_2 = [35, 0.24, 3 + 4j, \"котики\", 0.45, (8, 9), \"слоники\", {\"Мадрид\": 3, 'Лондон':5}, 23498]\n",
        "LLL = (len(list_for_pro_task_2))\n",
        "for i in range (0, LLL-1): \n",
        "  tipage =  (type(list_for_pro_task_2[i]))\n",
        "  if  tipage == dict: \n",
        "    print (\"Ответ: в данном списке до словаря\", i, \"элементов\", sep=\" \")\n"
      ],
      "execution_count": null,
      "outputs": [
        {
          "output_type": "stream",
          "text": [
            "Ответ: в данном списке до словаря 7 элементов\n"
          ],
          "name": "stdout"
        }
      ]
    },
    {
      "cell_type": "markdown",
      "metadata": {
        "id": "fHMBDh-ahdrz"
      },
      "source": [
        "### Задача 8\n",
        "\n",
        "Создайте словарь (dict) c ключами, соответствующими числам от 1 до 20 включительно и значениями, соответствующими квадратам ключей. \n",
        "\n",
        "P.S. используйте циклы или функции, прямое \"ручное\" присваивание не допускается (!!!)\n",
        "\n",
        "Пример: \n",
        "\n",
        "для чисел от 1 до 3 включительно словарь должен выглядеть так: {1 : 1, 2 : 4, 3 : 9}"
      ]
    },
    {
      "cell_type": "code",
      "metadata": {
        "id": "Qu_FGKpqB0C5",
        "colab": {
          "base_uri": "https://localhost:8080/",
          "height": 55
        },
        "outputId": "fb75c7fe-52bc-4115-94cb-e4f3f7e41e9f"
      },
      "source": [
        "slovaril = {}\n",
        "for i in range (1,21):\n",
        "  slovarik = {i : i**2}\n",
        "  slovaril.update(slovarik)\n",
        "print (slovaril)"
      ],
      "execution_count": null,
      "outputs": [
        {
          "output_type": "stream",
          "text": [
            "{1: 1, 2: 4, 3: 9, 4: 16, 5: 25, 6: 36, 7: 49, 8: 64, 9: 81, 10: 100, 11: 121, 12: 144, 13: 169, 14: 196, 15: 225, 16: 256, 17: 289, 18: 324, 19: 361, 20: 400}\n"
          ],
          "name": "stdout"
        }
      ]
    },
    {
      "cell_type": "code",
      "metadata": {
        "id": "oBITsjbqrbPf"
      },
      "source": [
        "user_list=[]"
      ],
      "execution_count": null,
      "outputs": []
    },
    {
      "cell_type": "code",
      "metadata": {
        "id": "D8mMc44CrgqP"
      },
      "source": [
        "name = 'dfcz'"
      ],
      "execution_count": null,
      "outputs": []
    },
    {
      "cell_type": "code",
      "metadata": {
        "id": "ieMvul3krl0p"
      },
      "source": [
        "user_list.append(name)"
      ],
      "execution_count": null,
      "outputs": []
    },
    {
      "cell_type": "code",
      "metadata": {
        "id": "Ku2URbZ7LS7k"
      },
      "source": [
        "import sys"
      ],
      "execution_count": null,
      "outputs": []
    },
    {
      "cell_type": "code",
      "metadata": {
        "colab": {
          "base_uri": "https://localhost:8080/"
        },
        "id": "pslunWwmKiD8",
        "outputId": "686ecfd8-33bd-47fc-8f5f-d3585173d35d"
      },
      "source": [
        "a = float(input())\n",
        "b = float(input())\n",
        "oper = str(input())\n",
        "flag = oper in ['/', 'mod', 'div']\n",
        "if (b == 0 and flag):\n",
        "    print('Деление на 0!')\n",
        "    sys.exit() \n",
        "elif b!=0:\n",
        "     dict_div = {'/': a/b, 'mod': a%b, 'div': a//b, '+': (a+b), '-': (a-b),  '*': (a*b),  'pow': (a**b)}\n",
        "     print(dict_div.get(oper))\n",
        "elif b==0:\n",
        "  dict = {'+': (a+b), '-': (a-b),  '*': (a*b),  'pow': (a**b)}\n",
        "  print(dict.get(oper))"
      ],
      "execution_count": null,
      "outputs": [
        {
          "output_type": "stream",
          "name": "stdout",
          "text": [
            "7\n",
            "6\n",
            "-\n",
            "1.0\n"
          ]
        }
      ]
    },
    {
      "cell_type": "code",
      "metadata": {
        "colab": {
          "base_uri": "https://localhost:8080/"
        },
        "id": "v7FGAPN-OLcQ",
        "outputId": "7d5a1209-8d1e-4d22-9b82-cf6237ea0abc"
      },
      "source": [
        "a = input() ; b = input() ; c=input()"
      ],
      "execution_count": null,
      "outputs": [
        {
          "name": "stdout",
          "output_type": "stream",
          "text": [
            "2\n",
            "4\n",
            "5\n"
          ]
        }
      ]
    },
    {
      "cell_type": "code",
      "metadata": {
        "colab": {
          "base_uri": "https://localhost:8080/"
        },
        "id": "CDs_VhDYXhDv",
        "outputId": "d83ba7fe-3631-462a-fb90-8f038ca76f6c"
      },
      "source": [
        "import math\n",
        "if __name__ == '__main__':\n",
        "    figure = input('введите форму комнаты')\n",
        "    if figure == 'треугольник':\n",
        "        a = abs(float(input ('длина первой стороны треугольника')))\n",
        "        b = abs(float(input ('длина второй стороны треугольника')))\n",
        "        g = abs(float(input ('длина третьей стороны треугольника')))\n",
        "        if a+b >= g:\n",
        "          p = a + b + g\n",
        "          pp = p/2\n",
        "          s = math.sqrt(pp*(pp-a)*(pp-b)*(pp-c))\n",
        "          print(s)\n",
        "        else:\n",
        "          print('такого треугольника не может существовать')\n",
        "    if figure == 'прямоугольник':\n",
        "        a = float(input ('длина первой стороны прямоугольника'))\n",
        "        b = float(input ('длина второй стороны прямоугольника'))\n",
        "        print (abs(a*b))\n",
        "    if figure == 'круг':\n",
        "        r = abs(float(input('введите радиус комнаты')))\n",
        "        s = 3.14*(r**2)\n",
        "        print (s)\n"
      ],
      "execution_count": null,
      "outputs": [
        {
          "output_type": "stream",
          "name": "stdout",
          "text": [
            "введите форму комнатытреугольник\n",
            "длина первой стороны треугольника1\n",
            "длина второй стороны треугольника1\n",
            "длина третьей стороны треугольника10\n",
            "такого треугольника не может существовать\n"
          ]
        }
      ]
    },
    {
      "cell_type": "code",
      "metadata": {
        "colab": {
          "base_uri": "https://localhost:8080/"
        },
        "id": "ME-28lkXcXoL",
        "outputId": "6206aba4-5b5d-4b5c-ff6c-7ee9f354edfc"
      },
      "source": [
        "type(c)"
      ],
      "execution_count": null,
      "outputs": [
        {
          "output_type": "execute_result",
          "data": {
            "text/plain": [
              "str"
            ]
          },
          "metadata": {},
          "execution_count": 32
        }
      ]
    },
    {
      "cell_type": "code",
      "metadata": {
        "id": "5lBJc-uosxjY"
      },
      "source": [
        "list = [20, 25, 30]"
      ],
      "execution_count": null,
      "outputs": []
    },
    {
      "cell_type": "code",
      "metadata": {
        "id": "O4yvHDnis51t"
      },
      "source": [
        "import numpy as np"
      ],
      "execution_count": null,
      "outputs": []
    },
    {
      "cell_type": "code",
      "metadata": {
        "id": "WNTJXI-Zt1DW"
      },
      "source": [
        "mas = np.array([20, 20, 20])"
      ],
      "execution_count": null,
      "outputs": []
    },
    {
      "cell_type": "code",
      "metadata": {
        "colab": {
          "base_uri": "https://localhost:8080/"
        },
        "id": "MCFSGydDuDLl",
        "outputId": "b5a55f90-6e22-4335-9002-f3568097d925"
      },
      "source": [
        "print (mas.max())\n",
        "print (mas.min())\n",
        "print (mas.sum()-mas.max()-mas.min())"
      ],
      "execution_count": null,
      "outputs": [
        {
          "output_type": "stream",
          "name": "stdout",
          "text": [
            "20\n",
            "20\n",
            "20\n"
          ]
        }
      ]
    },
    {
      "cell_type": "code",
      "metadata": {
        "colab": {
          "base_uri": "https://localhost:8080/"
        },
        "id": "Z6nsMp6xu5ha",
        "outputId": "c258986d-0b84-4874-8a8b-6f8b3c73887b"
      },
      "source": [
        "mas = np.array([0, 0, 0])\n",
        "for i in range (0,3):\n",
        "  mas[i] = input()\n",
        "print (mas.max())\n",
        "print (mas.min())\n",
        "print (mas.sum()-mas.max()-mas.min())"
      ],
      "execution_count": null,
      "outputs": [
        {
          "output_type": "stream",
          "name": "stdout",
          "text": [
            "10\n",
            "45\n",
            "10\n",
            "45\n",
            "10\n",
            "10\n"
          ]
        }
      ]
    },
    {
      "cell_type": "code",
      "metadata": {
        "colab": {
          "base_uri": "https://localhost:8080/"
        },
        "id": "g_pRVhyzzTF5",
        "outputId": "7c90618e-1579-4d26-d03b-660e76b1cea6"
      },
      "source": [
        "n = int(input())\n",
        "lenn = len(str(n))\n",
        "len_str = str(n)\n",
        "digsuf = str(n)[lenn-1]\n",
        "if 11 <= n and n <= 19:\n",
        "  digsuf = '0'\n",
        "if lenn >= 3:\n",
        "    if 11 <= int(len_str[1:]) <=19:\n",
        "      digsuf = '0'\n",
        "malo = ['1']; sred = ['2', '3', '4']; \n",
        "mnog = ['5', '6', '7', '8', '9', '0']\n",
        "if digsuf in malo:\n",
        "  print(n,'программист', sep=' ') \n",
        "elif digsuf in sred:\n",
        "  print(n,'программиста', sep = ' ')\n",
        "elif digsuf in mnog:\n",
        "  print(n, 'программистов', sep = ' ')\n",
        "else:\n",
        "  print('некорректный ввод')"
      ],
      "execution_count": null,
      "outputs": [
        {
          "output_type": "stream",
          "name": "stdout",
          "text": [
            "611\n",
            "611 программистов\n"
          ]
        }
      ]
    },
    {
      "cell_type": "code",
      "metadata": {
        "colab": {
          "base_uri": "https://localhost:8080/"
        },
        "id": "pm0nJPi4-8DI",
        "outputId": "4939954c-8980-4a2e-c0ed-684174d56a5e"
      },
      "source": [
        "\n",
        "ticket = input()\n",
        "tick_list = [int(c) for c in ticket]\n",
        "tick_mass = np.array(tick_list)\n",
        "if tick_mass[:3].sum() == tick_mass[3:].sum():\n",
        "  print('Счастливый')\n",
        "else:\n",
        "  print('Обычный')\n"
      ],
      "execution_count": null,
      "outputs": [
        {
          "output_type": "stream",
          "name": "stdout",
          "text": [
            "123321\n",
            "Счастливый\n"
          ]
        }
      ]
    },
    {
      "cell_type": "code",
      "metadata": {
        "colab": {
          "base_uri": "https://localhost:8080/"
        },
        "id": "IFC7NkIaSsOB",
        "outputId": "4c6ec31c-fa27-4d3c-9e0c-6c4fe6a23600"
      },
      "source": [
        "print(tick_mass[:3].sum())"
      ],
      "execution_count": null,
      "outputs": [
        {
          "output_type": "stream",
          "name": "stdout",
          "text": [
            "11\n"
          ]
        }
      ]
    },
    {
      "cell_type": "code",
      "metadata": {
        "colab": {
          "base_uri": "https://localhost:8080/"
        },
        "id": "Hf_8bdZRUJWU",
        "outputId": "f2208a63-6865-44be-beed-748489492051"
      },
      "source": [
        "print(tick_mass[3:].sum())"
      ],
      "execution_count": null,
      "outputs": [
        {
          "output_type": "stream",
          "name": "stdout",
          "text": [
            "6\n"
          ]
        }
      ]
    },
    {
      "cell_type": "code",
      "metadata": {
        "id": "8MccShg6W_us"
      },
      "source": [
        "i = 0\n",
        "while i <= 10:\n",
        "    i = i + 1\n",
        "    if i > 7:\n",
        "        i = i + 2"
      ],
      "execution_count": null,
      "outputs": []
    },
    {
      "cell_type": "code",
      "metadata": {
        "colab": {
          "base_uri": "https://localhost:8080/"
        },
        "id": "gaY0gegUXEUE",
        "outputId": "9aa25b9d-4a10-4ec2-e505-864fb3e00a18"
      },
      "source": [
        "print(i)"
      ],
      "execution_count": null,
      "outputs": [
        {
          "output_type": "stream",
          "name": "stdout",
          "text": [
            "13\n"
          ]
        }
      ]
    },
    {
      "cell_type": "code",
      "metadata": {
        "colab": {
          "base_uri": "https://localhost:8080/"
        },
        "id": "K9Iah5jiX45b",
        "outputId": "ba8fe5f9-b666-4a9a-a3e6-faa231486c17"
      },
      "source": [
        "i = 0\n",
        "while i < 5:\n",
        "    print('*')\n",
        "    if i % 2 == 0:\n",
        "        print('**')\n",
        "    if i > 2:\n",
        "        print('***')\n",
        "    i = i + 1"
      ],
      "execution_count": null,
      "outputs": [
        {
          "output_type": "stream",
          "name": "stdout",
          "text": [
            "*\n",
            "**\n",
            "*\n",
            "*\n",
            "**\n",
            "*\n",
            "***\n",
            "*\n",
            "**\n",
            "***\n"
          ]
        }
      ]
    },
    {
      "cell_type": "code",
      "metadata": {
        "colab": {
          "base_uri": "https://localhost:8080/"
        },
        "id": "PWKcgVn9YIiH",
        "outputId": "0bb8e007-5031-45dd-9c0a-c4840bda83d4"
      },
      "source": [
        "n = 1\n",
        "s = 0\n",
        "while n != 0:\n",
        "  n = int(input())\n",
        "  if n != 0:\n",
        "     s = s + n\n",
        "  else:\n",
        "    print (s)"
      ],
      "execution_count": null,
      "outputs": [
        {
          "output_type": "stream",
          "name": "stdout",
          "text": [
            "2\n",
            "5\n",
            "8\n",
            "10\n",
            "-12\n",
            "0\n",
            "13\n"
          ]
        }
      ]
    },
    {
      "cell_type": "code",
      "metadata": {
        "colab": {
          "base_uri": "https://localhost:8080/"
        },
        "id": "4DuOI1uIcifb",
        "outputId": "a572be07-6bb1-4a3f-b8a6-bf4838fc5b01"
      },
      "source": [
        "a = int(input())\n",
        "b = int(input())\n",
        "i = 1\n",
        "while (i%b != 0) or (i%a !=  0): \n",
        "           i = i + 1\n",
        "print(i)"
      ],
      "execution_count": null,
      "outputs": [
        {
          "output_type": "stream",
          "name": "stdout",
          "text": [
            "3\n",
            "5\n",
            "15\n"
          ]
        }
      ]
    },
    {
      "cell_type": "code",
      "metadata": {
        "colab": {
          "base_uri": "https://localhost:8080/"
        },
        "id": "23VKJkwcfaaO",
        "outputId": "18d9e47b-9528-4c5d-82a2-d5d5395406ff"
      },
      "source": [
        "i = 0\n",
        "s = 0\n",
        "while i < 10:\n",
        "    i = i + 1 ; print(i)\n",
        "    s = s + i ; print(s)\n",
        "    if s > 15:\n",
        "        continue\n",
        "    i = i + 1"
      ],
      "execution_count": null,
      "outputs": [
        {
          "output_type": "stream",
          "name": "stdout",
          "text": [
            "1\n",
            "1\n",
            "3\n",
            "4\n",
            "5\n",
            "9\n",
            "7\n",
            "16\n",
            "8\n",
            "24\n",
            "9\n",
            "33\n",
            "10\n",
            "43\n"
          ]
        }
      ]
    },
    {
      "cell_type": "code",
      "metadata": {
        "colab": {
          "base_uri": "https://localhost:8080/"
        },
        "id": "SC1HkE_6inTw",
        "outputId": "6186853d-8201-4a39-ea58-eee14200fbdd"
      },
      "source": [
        "print (i)"
      ],
      "execution_count": null,
      "outputs": [
        {
          "output_type": "stream",
          "name": "stdout",
          "text": [
            "10\n"
          ]
        }
      ]
    },
    {
      "cell_type": "code",
      "metadata": {
        "colab": {
          "base_uri": "https://localhost:8080/"
        },
        "id": "sixvmHGEl5ag",
        "outputId": "d81bbe29-cd8b-478e-f751-a359248864e9"
      },
      "source": [
        "n=0\n",
        "while n <= 100:\n",
        "  n = int(input())\n",
        "  if n > 100:\n",
        "    break\n",
        "  if n < 10:\n",
        "    continue\n",
        "  else:\n",
        "    print(n)\n"
      ],
      "execution_count": null,
      "outputs": [
        {
          "name": "stdout",
          "output_type": "stream",
          "text": [
            "10\n",
            "10\n",
            "9\n",
            "100\n",
            "100\n",
            "101\n"
          ]
        }
      ]
    },
    {
      "cell_type": "code",
      "metadata": {
        "colab": {
          "base_uri": "https://localhost:8080/"
        },
        "id": "Gr5adDbfpm8K",
        "outputId": "0b97f494-bd01-47ef-f4fe-79905548db18"
      },
      "source": [
        "a = int(input())\n",
        "b = int(input())\n",
        "c = int(input())\n",
        "d = int(input())\n",
        "for i in range(a,b):\n",
        "    print (i, end = '', sep ='  ')"
      ],
      "execution_count": null,
      "outputs": [
        {
          "output_type": "stream",
          "name": "stdout",
          "text": [
            "2\n",
            "9\n",
            "2\n",
            "9\n",
            "2345678"
          ]
        }
      ]
    },
    {
      "cell_type": "code",
      "metadata": {
        "colab": {
          "base_uri": "https://localhost:8080/"
        },
        "id": "iP6v2bqtstnY",
        "outputId": "c13a9fe2-da3b-41be-ee35-619ee13ff83e"
      },
      "source": [
        "c = int(input())\n",
        "d = int(input())\n",
        "a = int(input())\n",
        "b = int(input())\n",
        "print('\\t', end = '')\n",
        "for i in range(a,b+1):\n",
        "    print (i, end = '\\t')\n",
        "print('')\n",
        "for j in range(c, d+1):\n",
        "    print (j, end = '\\t')\n",
        "    for i in range(a, b+1):\n",
        "        print (j*i, end = '\\t')\n",
        "    print('')"
      ],
      "execution_count": null,
      "outputs": [
        {
          "output_type": "stream",
          "name": "stdout",
          "text": [
            "2\n",
            "9\n",
            "2\n",
            "9\n",
            "\t2\t3\t4\t5\t6\t7\t8\t9\t\n",
            "2\t4\t6\t8\t10\t12\t14\t16\t18\t\n",
            "3\t6\t9\t12\t15\t18\t21\t24\t27\t\n",
            "4\t8\t12\t16\t20\t24\t28\t32\t36\t\n",
            "5\t10\t15\t20\t25\t30\t35\t40\t45\t\n",
            "6\t12\t18\t24\t30\t36\t42\t48\t54\t\n",
            "7\t14\t21\t28\t35\t42\t49\t56\t63\t\n",
            "8\t16\t24\t32\t40\t48\t56\t64\t72\t\n",
            "9\t18\t27\t36\t45\t54\t63\t72\t81\t\n"
          ]
        }
      ]
    },
    {
      "cell_type": "code",
      "metadata": {
        "colab": {
          "base_uri": "https://localhost:8080/"
        },
        "id": "oSSxTAm92yeC",
        "outputId": "3620aec9-4d02-456d-cfaf-eaf056655d4c"
      },
      "source": [
        "import numpy as np\n",
        "res = np.array([])\n",
        "a, b = input().split()\n",
        "a = int(a); b=int(b)\n",
        "s = 0\n",
        "for i in range (a, b+1):\n",
        "  if i%3 == 0:\n",
        "    res = np.append(res, i)\n",
        "print(np.mean(res))\n"
      ],
      "execution_count": null,
      "outputs": [
        {
          "output_type": "stream",
          "name": "stdout",
          "text": [
            "-5 12\n",
            "4.5\n"
          ]
        }
      ]
    },
    {
      "cell_type": "code",
      "metadata": {
        "colab": {
          "base_uri": "https://localhost:8080/"
        },
        "id": "x9NJe9WxHy0Q",
        "outputId": "87a83af0-bcce-4be3-cd81-b0a448706a6f"
      },
      "source": [
        "from random import randint\n",
        "times = 1\n",
        "level = float(input('Какой уровень 1 2 3? '))\n",
        "if level == 1 or level == 2 or level == 3:\n",
        "    score = level\n",
        "    print('ПЕРЕХОДИМ НА 1 УРОВЕНЬ')\n",
        "    while 2 > level > 0.9:\n",
        "        z = randint(1, 2)\n",
        "        n1 = randint(1, 5)\n",
        "        n2 = randint(1, 5)\n",
        "        if z == 1:\n",
        "            r = float(input(str(times) + ')' + str(n1) + '+' + str(n2) + '=')) == n1+n2\n",
        "        else:\n",
        "            r = float(input(str(times) + ')' + str(n1+n2) + '-' + str(n1) + '=')) == n1+n2-n1\n",
        "        if r == 1:\n",
        "            print('Правильно')\n",
        "            level += 0.1\n",
        "            times += 1\n",
        "        else:\n",
        "            print('Не правильно')\n",
        "            times += 1\n",
        "    print('ПЕРЕХОДИМ НА 2 УРОВЕНЬ')\n",
        "    while 3 > level > 1.9:\n",
        "        z = randint(1, 2)\n",
        "        n1 = randint(1, 10)\n",
        "        n2 = randint(1, 10)\n",
        "        if z == 1:\n",
        "            r = float(input(str(times) + ')' + str(n1) + '+' + str(n2) + '=')) == n1+n2\n",
        "        else:\n",
        "            r = float(input(str(times) + ')' + str(n1+n2) + '-' + str(n1) + '=')) == n1+n2-n1\n",
        "        if r == 1:\n",
        "            print('Правильно')\n",
        "            level += 0.1\n",
        "            times += 1\n",
        "        else:\n",
        "            print('Не правильно')\n",
        "            times += 1\n",
        "    print('ПЕРЕХОДИМ НА 3 УРОВЕНЬ')\n",
        "    while 4 > level > 2.9:\n",
        "        z = randint(1, 4)\n",
        "        n1 = randint(1, 50)\n",
        "        n2 = randint(1, 50)\n",
        "        n3 = randint(1, 10)\n",
        "        n4 = randint(1, 10)\n",
        "        if z == 1:\n",
        "            r = float(input(str(times) + ')' + str(n1) + '+' + str(n2) + '=')) == n1+n2\n",
        "        elif z == 2:\n",
        "            r = float(input(str(times) + ')' + str(n1+n2) + '-' + str(n1) + '=')) == n1+n2-n1\n",
        "        elif z == 3:\n",
        "            r = float(input(str(times) + ')' + str(n3) + '*' + str(n4) + '=')) == n3*n4\n",
        "        else:\n",
        "            r = float(input(str(times) + ')' + str(n3*n4) + ':' + str(n4) + '=')) == n3*n4/n4\n",
        "        if r == 1:\n",
        "            print('Правильно')\n",
        "            level += 0.1\n",
        "            times += 1\n",
        "        else:\n",
        "            print('Не правильно')\n",
        "            times += 1\n",
        "    print('Вашь счёт = ' + str(int((level-score)*10)) + ' из ' + str(times-1))\n",
        "else:\n",
        "    print('Такого уровня нету!')"
      ],
      "execution_count": null,
      "outputs": [
        {
          "output_type": "stream",
          "name": "stdout",
          "text": [
            "Какой уровень 1 2 3? 2\n",
            "ПЕРЕХОДИМ НА 1 УРОВЕНЬ\n",
            "ПЕРЕХОДИМ НА 2 УРОВЕНЬ\n",
            "1)12-10=2\n",
            "Правильно\n",
            "2)9-6=3\n",
            "Правильно\n",
            "3)8+10=18\n",
            "Правильно\n",
            "4)7+5=12\n",
            "Правильно\n",
            "5)2+3=5\n",
            "Правильно\n",
            "6)20-10=10\n",
            "Правильно\n",
            "7)7+8=15\n",
            "Правильно\n",
            "8)9+4=13\n",
            "Правильно\n",
            "9)5+1=6\n",
            "Правильно\n",
            "10)16-8=8\n",
            "Правильно\n",
            "ПЕРЕХОДИМ НА 3 УРОВЕНЬ\n",
            "11)18:2=9\n",
            "Правильно\n",
            "12)4*4=16\n",
            "Правильно\n",
            "13)24:3=8\n",
            "Правильно\n",
            "14)4*10=40\n",
            "Правильно\n",
            "15)14-11=3\n",
            "Правильно\n",
            "16)42-18=24\n",
            "Правильно\n",
            "17)7*8=56\n",
            "Правильно\n",
            "18)41+9=50\n",
            "Правильно\n",
            "19)42+33=75\n",
            "Правильно\n",
            "20)15+1=16\n",
            "Правильно\n",
            "Вашь счёт = 20 из 20\n"
          ]
        }
      ]
    },
    {
      "cell_type": "code",
      "metadata": {
        "colab": {
          "base_uri": "https://localhost:8080/"
        },
        "id": "w5_IuX67IhLP",
        "outputId": "f0ccf804-9d49-46a6-f3e6-b5420d64de30"
      },
      "source": [
        "g_code = input().lower()\n",
        "print(((g_code.count('c'))+(g_code.count('g')))*100/len(g_code))"
      ],
      "execution_count": null,
      "outputs": [
        {
          "output_type": "stream",
          "name": "stdout",
          "text": [
            "CcddGghh\n",
            "50.0\n"
          ]
        }
      ]
    },
    {
      "cell_type": "code",
      "metadata": {
        "colab": {
          "base_uri": "https://localhost:8080/"
        },
        "id": "E5L5RlNmOTUO",
        "outputId": "2395af6d-0989-481a-ce98-47b04a77bcf7"
      },
      "source": [
        "print(input())"
      ],
      "execution_count": null,
      "outputs": [
        {
          "output_type": "stream",
          "name": "stdout",
          "text": [
            "20\n",
            "20\n"
          ]
        }
      ]
    },
    {
      "cell_type": "code",
      "metadata": {
        "colab": {
          "base_uri": "https://localhost:8080/"
        },
        "id": "SLIIkPHTOop5",
        "outputId": "d85c4d50-68ba-4766-dee7-5a532017dda6"
      },
      "source": [
        "\n",
        "print(((g_code=input().lower().count('c'))+(input().lower().count('g')))*100/len(g_code))"
      ],
      "execution_count": null,
      "outputs": [
        {
          "output_type": "stream",
          "name": "stdout",
          "text": [
            "CcjjGg\n",
            "Cchhcc\n",
            "3.8461538461538463\n"
          ]
        }
      ]
    },
    {
      "cell_type": "code",
      "metadata": {
        "id": "Yt2c5BY1St0Y"
      },
      "source": [
        "s = 'abcdefghijk'"
      ],
      "execution_count": null,
      "outputs": []
    },
    {
      "cell_type": "code",
      "metadata": {
        "colab": {
          "base_uri": "https://localhost:8080/",
          "height": 35
        },
        "id": "ne7lgp5-SzEh",
        "outputId": "7e915c74-54eb-4027-bcff-f8b45636e90f"
      },
      "source": [
        "s[-1:-10:-2]"
      ],
      "execution_count": null,
      "outputs": [
        {
          "output_type": "execute_result",
          "data": {
            "application/vnd.google.colaboratory.intrinsic+json": {
              "type": "string"
            },
            "text/plain": [
              "'kigec'"
            ]
          },
          "metadata": {},
          "execution_count": 45
        }
      ]
    },
    {
      "cell_type": "code",
      "metadata": {
        "colab": {
          "base_uri": "https://localhost:8080/"
        },
        "id": "23ddtWRqWKPO",
        "outputId": "68878aff-62be-4067-fd6c-425b20d42a30"
      },
      "source": [
        "genom = input()\n",
        "gen_set = set(genom)\n",
        "formula = ''\n",
        "for i in gen_set:\n",
        "    num = genom.count(i)\n",
        "    formula = formula + i + str(num)\n",
        "print(formula)"
      ],
      "execution_count": null,
      "outputs": [
        {
          "output_type": "stream",
          "name": "stdout",
          "text": [
            "xxttkkkaeaaeyy\n",
            "x2e2a3t2k3y2\n"
          ]
        }
      ]
    },
    {
      "cell_type": "code",
      "metadata": {
        "colab": {
          "base_uri": "https://localhost:8080/"
        },
        "id": "XlKOTdZwZNZX",
        "outputId": "bc3ebaba-4ac6-4563-d305-1c0a03b07a0f"
      },
      "source": [
        "genom = input()\n",
        "form = ''\n",
        "k=1\n",
        "n=1\n",
        "if len(genom) == genom.count(genom[0]):\n",
        "  form = genom[0] + str(len(genom))\n",
        "  print(form)\n",
        "else:\n",
        "  for i in range(0, len(genom)-1):\n",
        "    if genom[i] == genom[i+1]:\n",
        "        k=k+1\n",
        "        if i == len(genom)-1:  \n",
        "            form = form + genom[i] + str(k)\n",
        "    else:\n",
        "        form = form + genom[i] + str(k)\n",
        "        k=1\n",
        "  k = 1\n",
        "  while genom[len(genom)-n] == genom[len(genom)-(n+1)]:\n",
        "    n=n+1\n",
        "  form = form + genom[len(genom)-n] + str(n)\n",
        "  print(form)"
      ],
      "execution_count": null,
      "outputs": [
        {
          "output_type": "stream",
          "name": "stdout",
          "text": [
            "aaaaaaaaaaaaaaaa\n",
            "a16\n"
          ]
        }
      ]
    },
    {
      "cell_type": "code",
      "metadata": {
        "id": "ayNGB2eGwZuQ"
      },
      "source": [
        "students = ['Ivan', 'Masha', 'Sasha']\n",
        "students += ['Olga']\n",
        "students += 'Olga'"
      ],
      "execution_count": null,
      "outputs": []
    },
    {
      "cell_type": "code",
      "metadata": {
        "colab": {
          "base_uri": "https://localhost:8080/"
        },
        "id": "IVIv7XW6wcLp",
        "outputId": "482ed73e-3991-4a37-e060-b4021c719d5d"
      },
      "source": [
        "print(students)"
      ],
      "execution_count": null,
      "outputs": [
        {
          "output_type": "stream",
          "name": "stdout",
          "text": [
            "['Ivan', 'Masha', 'Sasha', 'Olga', 'O', 'l', 'g', 'a']\n"
          ]
        }
      ]
    },
    {
      "cell_type": "code",
      "metadata": {
        "colab": {
          "base_uri": "https://localhost:8080/"
        },
        "id": "lZAL9D6X2kvj",
        "outputId": "99a614a3-9ba0-4cef-bcc7-747fbb91bc9e"
      },
      "source": [
        "a = [1, 2, 3]\n",
        "b = a\n",
        "print(b)"
      ],
      "execution_count": null,
      "outputs": [
        {
          "output_type": "stream",
          "name": "stdout",
          "text": [
            "[1, 2, 3]\n"
          ]
        }
      ]
    },
    {
      "cell_type": "code",
      "metadata": {
        "colab": {
          "base_uri": "https://localhost:8080/"
        },
        "id": "EEHPA1jT2r2X",
        "outputId": "74d215ba-9d61-4858-f713-eadb60cc764a"
      },
      "source": [
        "a[1] = 10\n",
        "print(b)"
      ],
      "execution_count": null,
      "outputs": [
        {
          "output_type": "stream",
          "name": "stdout",
          "text": [
            "[1, 10, 3]\n"
          ]
        }
      ]
    },
    {
      "cell_type": "code",
      "metadata": {
        "colab": {
          "base_uri": "https://localhost:8080/"
        },
        "id": "DNwSdE7M3Ei1",
        "outputId": "a8eea6fd-00a5-4520-c6c2-f02318f41c44"
      },
      "source": [
        "b[0] = 20\n",
        "print(a)"
      ],
      "execution_count": null,
      "outputs": [
        {
          "output_type": "stream",
          "name": "stdout",
          "text": [
            "[20, 10, 3]\n"
          ]
        }
      ]
    },
    {
      "cell_type": "code",
      "metadata": {
        "colab": {
          "base_uri": "https://localhost:8080/"
        },
        "id": "2r-XQR6d3RFC",
        "outputId": "f2d26602-2aa5-445f-fc81-eb76396af089"
      },
      "source": [
        "a = [5, 6]\n",
        "print(b)"
      ],
      "execution_count": null,
      "outputs": [
        {
          "output_type": "stream",
          "name": "stdout",
          "text": [
            "[20, 10, 3]\n"
          ]
        }
      ]
    },
    {
      "cell_type": "code",
      "metadata": {
        "colab": {
          "base_uri": "https://localhost:8080/"
        },
        "id": "dvtu-yaa4zJq",
        "outputId": "1775120d-31f9-4284-c154-1a766c4d890c"
      },
      "source": [
        "lst = [int(i) for i in input().split()]\n",
        "print(sum(lst))"
      ],
      "execution_count": null,
      "outputs": [
        {
          "output_type": "stream",
          "name": "stdout",
          "text": [
            "2 2 2\n",
            "6\n"
          ]
        }
      ]
    },
    {
      "cell_type": "code",
      "metadata": {
        "id": "2Z-a-fMy6i-F",
        "colab": {
          "base_uri": "https://localhost:8080/"
        },
        "outputId": "61bd03d1-f5d6-43c3-ad9a-4f24af5fd7b8"
      },
      "source": [
        "lst = [int(i) for i in input().split()]\n",
        "dlina = len(lst)\n",
        "if dlina==1:\n",
        "  print(lst[0])\n",
        "else:\n",
        "  print(lst[dlina-1]+lst[1], ' ', end = '')\n",
        "  for i in range (1, dlina-1):\n",
        "    print(lst[i-1]+lst[i+1], ' ', end = '')\n",
        "  print(lst[dlina-2]+lst[0])"
      ],
      "execution_count": 4,
      "outputs": [
        {
          "output_type": "stream",
          "name": "stdout",
          "text": [
            "1 3 5 6 10\n",
            "13  6  9  15  7\n"
          ]
        }
      ]
    },
    {
      "cell_type": "code",
      "metadata": {
        "colab": {
          "base_uri": "https://localhost:8080/"
        },
        "id": "Mk6UaDjShtdl",
        "outputId": "efaa35be-91ea-4b3d-abdb-c1a6cde74bfd"
      },
      "source": [
        "lst = [int(i) for i in input().split()]\n",
        "setus = set(lst)\n",
        "for i in setus:\n",
        "  if lst.count(i) > 1:\n",
        "    print(i, ' ', end = '') \n"
      ],
      "execution_count": 5,
      "outputs": [
        {
          "output_type": "stream",
          "name": "stdout",
          "text": [
            "4 8 0 3 4 2 0 3\n",
            "0  3  4  "
          ]
        }
      ]
    },
    {
      "cell_type": "code",
      "metadata": {
        "colab": {
          "base_uri": "https://localhost:8080/"
        },
        "id": "4z55pKphtK47",
        "outputId": "2a6359e0-18aa-4642-a801-8c9a6d6fcdf9"
      },
      "source": [
        "k=0\n",
        "s = 1\n",
        "sum = 0\n",
        "lst = []\n",
        "res = 0\n",
        "while s != 0:\n",
        "  n = int(input())\n",
        "  lst.append(n)\n",
        "  if k==0:\n",
        "    s = 0\n",
        "    s = s+n\n",
        "  else:\n",
        "    s = s + n  \n",
        "  k = k+1\n",
        "sum = [lst[i]*lst[i] for i in range (0, len(lst))]\n",
        "for elem in sum:\n",
        "  res = res + elem\n",
        "print(res)"
      ],
      "execution_count": 24,
      "outputs": [
        {
          "output_type": "stream",
          "name": "stdout",
          "text": [
            "1\n",
            "-3\n",
            "5\n",
            "-6\n",
            "-10\n",
            "13\n",
            "[1, 9, 25, 36, 100, 169]\n",
            "340\n"
          ]
        }
      ]
    },
    {
      "cell_type": "code",
      "metadata": {
        "id": "rFMPDMnN-6I9"
      },
      "source": [
        "n = int(input())\n",
        "strok = []\n",
        "for i in range (0, n+1):\n",
        "   strok = strok + [i]*i\n",
        "stron = strok[:n]\n",
        "lent = len(stron)\n",
        "stroka = (stron[:lent])\n",
        "print(*stroka)"
      ],
      "execution_count": null,
      "outputs": []
    },
    {
      "cell_type": "code",
      "metadata": {
        "colab": {
          "base_uri": "https://localhost:8080/"
        },
        "id": "YdLhFF4DoCre",
        "outputId": "38550f9c-45a6-44d9-ffef-705909deb3f6"
      },
      "source": [
        "lst = [int(i) for i in input().split()]\n",
        "ans = []\n",
        "n = int(input())\n",
        "for i in range (0, len(lst)):\n",
        "   if n == lst[i]:\n",
        "        ans.append(i)\n",
        "if len(ans) == 0:\n",
        "  print('Отсутствует')\n",
        "else:\n",
        "  print(*ans)"
      ],
      "execution_count": 127,
      "outputs": [
        {
          "output_type": "stream",
          "name": "stdout",
          "text": [
            "3 3 3 3 3 3 3 3\n",
            "4\n",
            "Отсутствует\n"
          ]
        }
      ]
    },
    {
      "cell_type": "code",
      "metadata": {
        "id": "to747DNgvadz"
      },
      "source": [
        "def f(n):\n",
        "    return n * 10 + 5"
      ],
      "execution_count": 128,
      "outputs": []
    },
    {
      "cell_type": "code",
      "metadata": {
        "colab": {
          "base_uri": "https://localhost:8080/"
        },
        "id": "uWUDRXnavdYL",
        "outputId": "d3f631cc-98b4-431a-f838-52a7a006d599"
      },
      "source": [
        "f(f(f(10)))"
      ],
      "execution_count": 129,
      "outputs": [
        {
          "output_type": "execute_result",
          "data": {
            "text/plain": [
              "10555"
            ]
          },
          "metadata": {},
          "execution_count": 129
        }
      ]
    },
    {
      "cell_type": "code",
      "metadata": {
        "id": "ZFJfa9PFwAhr"
      },
      "source": [
        "def fun_fun(x):\n",
        "  if x <= -2:\n",
        "    res = (1-(x+2)**2)\n",
        "  elif     -2 <= x <= 2:\n",
        "    res = -(x/2)\n",
        "  else: \n",
        "    res = (x-2)**2+1\n",
        "  return res\n",
        "\n"
      ],
      "execution_count": 133,
      "outputs": []
    },
    {
      "cell_type": "code",
      "metadata": {
        "colab": {
          "base_uri": "https://localhost:8080/"
        },
        "id": "ymWoT-fixEfR",
        "outputId": "0e837a25-e336-4872-9080-670e6b38146d"
      },
      "source": [
        "print(fun_fun(1))"
      ],
      "execution_count": 136,
      "outputs": [
        {
          "output_type": "stream",
          "name": "stdout",
          "text": [
            "-0.5\n"
          ]
        }
      ]
    }
  ]
}