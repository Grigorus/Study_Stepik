{
  "nbformat": 4,
  "nbformat_minor": 0,
  "metadata": {
    "colab": {
      "name": "УРА!!! 75%!!\"Дипломный проект Григорусь Е.Н. \"Распознавание состояния опьянения по речи\"\"",
      "provenance": [],
      "collapsed_sections": [
        "kTOYXDHIN5is"
      ],
      "include_colab_link": true
    },
    "kernelspec": {
      "name": "python3",
      "display_name": "Python 3"
    },
    "accelerator": "GPU"
  },
  "cells": [
    {
      "cell_type": "markdown",
      "metadata": {
        "id": "view-in-github",
        "colab_type": "text"
      },
      "source": [
        "<a href=\"https://colab.research.google.com/github/Grigorus/Study_Stepik/blob/main/%D0%A3%D0%A0%D0%90!!!_75_!!%22%D0%94%D0%B8%D0%BF%D0%BB%D0%BE%D0%BC%D0%BD%D1%8B%D0%B9_%D0%BF%D1%80%D0%BE%D0%B5%D0%BA%D1%82_%D0%93%D1%80%D0%B8%D0%B3%D0%BE%D1%80%D1%83%D1%81%D1%8C_%D0%95_%D0%9D_%22%D0%A0%D0%B0%D1%81%D0%BF%D0%BE%D0%B7%D0%BD%D0%B0%D0%B2%D0%B0%D0%BD%D0%B8%D0%B5_%D1%81%D0%BE%D1%81%D1%82%D0%BE%D1%8F%D0%BD%D0%B8%D1%8F_%D0%BE%D0%BF%D1%8C%D1%8F%D0%BD%D0%B5%D0%BD%D0%B8%D1%8F_%D0%BF%D0%BE_%D1%80%D0%B5%D1%87%D0%B8%22%22.ipynb\" target=\"_parent\"><img src=\"https://colab.research.google.com/assets/colab-badge.svg\" alt=\"Open In Colab\"/></a>"
      ]
    },
    {
      "cell_type": "code",
      "metadata": {
        "id": "xWiCMHe2LPU4"
      },
      "source": [
        "\n",
        "from google.colab import files #load files\n",
        "from tensorflow.keras import utils #for to_categorical\n",
        "import os #for folders and files\n",
        "import librosa #for mining audio parameters\n",
        "import numpy as np #arrays\n",
        "import matplotlib.pyplot as plt #for diagrams\n",
        "\n",
        "%matplotlib inline \n",
        "from tensorflow.keras.optimizers import Adam, RMSprop  #optimisator for set step of learning\n",
        "from tensorflow.keras.models import Sequential, Model # keras formats\n",
        "from tensorflow.keras.layers import concatenate, Input, Dense, Dropout, BatchNormalization, Flatten, Conv1D, Conv2D, LSTM, Reshape #layers\n",
        "from sklearn.model_selection import train_test_split #slit learning and test data\n",
        "from sklearn.preprocessing import LabelEncoder, StandardScaler, MinMaxScaler #normalisation of data\n",
        "from keras.utils import plot_model\n",
        "\n",
        "import warnings\n",
        "warnings.filterwarnings('ignore')"
      ],
      "execution_count": null,
      "outputs": []
    },
    {
      "cell_type": "code",
      "metadata": {
        "id": "RDvFcj3CjnxG",
        "colab": {
          "base_uri": "https://localhost:8080/"
        },
        "outputId": "97381a97-4d78-4e27-faf0-6ce070632a0f"
      },
      "source": [
        "#disc mount\n",
        "from google.colab import drive\n",
        "drive.mount('/content/drive')"
      ],
      "execution_count": null,
      "outputs": [
        {
          "output_type": "stream",
          "text": [
            "Mounted at /content/drive\n"
          ],
          "name": "stdout"
        }
      ]
    },
    {
      "cell_type": "code",
      "metadata": {
        "id": "h_YQFujuobE5"
      },
      "source": [
        "DiplomeDrunkBase = 'drunk_animal_word sober_animal_world'.split()"
      ],
      "execution_count": null,
      "outputs": []
    },
    {
      "cell_type": "code",
      "metadata": {
        "id": "4VTNlxxdHqHn"
      },
      "source": [
        "#Функция параметризации аудио\n",
        "def get_features(y, sr):\n",
        "  #Получаем различные параметры аудио\n",
        "  chroma_stft = librosa.feature.chroma_stft(y=y, sr=sr) #Частота цветности (по умолчанию 12 баков цветности)\n",
        "  mfcc = librosa.feature.mfcc(y=y, sr=sr) #Мел спектральные коэффициенты (по умолчанию 20)\n",
        "  rmse = np.mean(librosa.feature.rms(y=y)) #Среднеквадратичная амплитуда\n",
        "  spec_cent = np.mean(librosa.feature.spectral_centroid(y=y, sr=sr)) #среднее спектральныго центроида\n",
        "  spec_bw = np.mean(librosa.feature.spectral_bandwidth(y=y, sr=sr)) #среднее ширины полосы частот\n",
        "  rolloff = np.mean(librosa.feature.spectral_rolloff(y=y, sr=sr)) #среднее спектрального спада частоты\n",
        "  zcr = np.mean(librosa.feature.zero_crossing_rate(y)) #среднее частота пересечения нуля звукового временного ряда\n",
        "  \n",
        "  \n",
        "  #Добавляем все параметры в один список\n",
        "  out = [] # создаем пустой список\n",
        "  out.append(rmse) #  добавляем среднеквадратичную амплитуду\n",
        "  out.append(spec_cent) #добавляем спектральный центроид\n",
        "  out.append(spec_bw) # добавляем ширину полосы частот\n",
        "  out.append(rolloff) # добавляем спектральный спад частоты\n",
        "  out.append(zcr) # добавляем пересечение нуля\n",
        "  \n",
        "  #добавляем среднее всех Мел спектральных коэффициентов (20 значений)\n",
        "  #for e in mfcc:\n",
        "  #out2.append(np.mean(e))\n",
        "\n",
        "  #добавляем среднее всех Частот цветности (12 значений)\n",
        "  #for e in chroma_stft:\n",
        "  #out3.append(np.mean(e))\n",
        "  \n",
        "  #Возвращаем получившийся список размерностью (37,)\n",
        "  return out, chroma_stft, mfcc"
      ],
      "execution_count": null,
      "outputs": []
    },
    {
      "cell_type": "code",
      "metadata": {
        "id": "MEngPcWMl8zF",
        "colab": {
          "base_uri": "https://localhost:8080/"
        },
        "outputId": "0a730c20-bfb7-4657-fdb5-099132b7ff59"
      },
      "source": [
        "import time #Для подсчёта времени на обработку одного жанра\n",
        "\n",
        "#Формируем обучающую выборку\n",
        "#Создаём пустые листы\n",
        "X_train = []\n",
        "Y_train = []\n",
        "X2_train = []\n",
        "X3_train = []\n",
        "\n",
        "#Запоминаем время старта формирования выборки\n",
        "curr_time = time.time()\n",
        "\n",
        "#Проходим по всем жарнам\n",
        "for i in range(len(DiplomeDrunkBase)):\n",
        "  g = DiplomeDrunkBase[i] #Берём текущее состояние\n",
        "  #Проходим по файлам папки, соответствующей текущему состоянию\n",
        "  for filename in os.listdir(f'/content/drive/My Drive/pitonism/DiplomeDrunkBase/{g}'):\n",
        "    #Получаем название голоса\n",
        "    songname = f'/content/drive/My Drive/pitonism/DiplomeDrunkBase/{g}/{filename}'\n",
        "    #Загружаем в y аудиосигнал\n",
        "    #Используем первые N секунд аудио\n",
        "    print (songname)\n",
        "    \n",
        "    y, sr = librosa.load(songname, mono=True)\n",
        "    \n",
        "    for j in range (int(len(y)//sr-4)):   \n",
        "\n",
        "     #Превращаем сигнал в параметризованные данные\n",
        "     #out, chroma_stft, mfcc = get_features(y, sr)\n",
        "     out, chroma_stft, mfcc = get_features(y[j*sr:(j+4)*sr], sr)\n",
        "     #Добавляем строку в X_train\n",
        "     X_train.append(out)\n",
        "     X2_train.append(chroma_stft)\n",
        "     X3_train.append(mfcc)\n",
        "     #Добавляем в Y_train номер жанра в формате ohe\n",
        "     Y_train.append(utils.to_categorical(i, len(DiplomeDrunkBase)))\n",
        "\n",
        "  #Выводим информацию о готовности обработки базы\n",
        "  print(\"Состояние \", g, \" готов -> \", round(time.time() - curr_time), \"c\", sep=\"\")\n",
        "  curr_time = time.time()\n",
        "\n",
        "#Превращаем обучающую выборку на numpy массивы\n",
        "X_train = np.array(X_train)\n",
        "Y_train = np.array(Y_train)\n",
        "X2_train = np.array(X2_train)\n",
        "X3_train = np.array(X3_train)\n",
        "###########\n",
        "print (X_train.shape) \n",
        "print (X2_train.shape)\n",
        "print (X3_train.shape)\n",
        "print (Y_train.shape)"
      ],
      "execution_count": null,
      "outputs": [
        {
          "output_type": "stream",
          "text": [
            "/content/drive/My Drive/pitonism/DiplomeDrunkBase/drunk_animal_word/drunk_animal_world (50).m4a\n",
            "/content/drive/My Drive/pitonism/DiplomeDrunkBase/drunk_animal_word/drunk_animal_world (1).m4a\n",
            "/content/drive/My Drive/pitonism/DiplomeDrunkBase/drunk_animal_word/drunk_animal_world (2).m4a\n",
            "/content/drive/My Drive/pitonism/DiplomeDrunkBase/drunk_animal_word/drunk_animal_world (3).m4a\n",
            "/content/drive/My Drive/pitonism/DiplomeDrunkBase/drunk_animal_word/drunk_animal_world (4).m4a\n",
            "/content/drive/My Drive/pitonism/DiplomeDrunkBase/drunk_animal_word/drunk_animal_world (5).m4a\n",
            "/content/drive/My Drive/pitonism/DiplomeDrunkBase/drunk_animal_word/drunk_animal_world (6).m4a\n",
            "/content/drive/My Drive/pitonism/DiplomeDrunkBase/drunk_animal_word/drunk_animal_world (7).m4a\n",
            "/content/drive/My Drive/pitonism/DiplomeDrunkBase/drunk_animal_word/drunk_animal_world (8).m4a\n",
            "/content/drive/My Drive/pitonism/DiplomeDrunkBase/drunk_animal_word/drunk_animal_world (9).m4a\n",
            "/content/drive/My Drive/pitonism/DiplomeDrunkBase/drunk_animal_word/drunk_animal_world (10).m4a\n",
            "/content/drive/My Drive/pitonism/DiplomeDrunkBase/drunk_animal_word/drunk_animal_world (11).m4a\n",
            "/content/drive/My Drive/pitonism/DiplomeDrunkBase/drunk_animal_word/drunk_animal_world (12).m4a\n",
            "/content/drive/My Drive/pitonism/DiplomeDrunkBase/drunk_animal_word/drunk_animal_world (13).m4a\n",
            "/content/drive/My Drive/pitonism/DiplomeDrunkBase/drunk_animal_word/drunk_animal_world (14).m4a\n",
            "/content/drive/My Drive/pitonism/DiplomeDrunkBase/drunk_animal_word/drunk_animal_world (15).m4a\n",
            "/content/drive/My Drive/pitonism/DiplomeDrunkBase/drunk_animal_word/drunk_animal_world (16).m4a\n",
            "/content/drive/My Drive/pitonism/DiplomeDrunkBase/drunk_animal_word/drunk_animal_world (17).m4a\n",
            "/content/drive/My Drive/pitonism/DiplomeDrunkBase/drunk_animal_word/drunk_animal_world (18).m4a\n",
            "/content/drive/My Drive/pitonism/DiplomeDrunkBase/drunk_animal_word/drunk_animal_world (19).m4a\n",
            "/content/drive/My Drive/pitonism/DiplomeDrunkBase/drunk_animal_word/drunk_animal_world (20).m4a\n",
            "/content/drive/My Drive/pitonism/DiplomeDrunkBase/drunk_animal_word/drunk_animal_world (21).m4a\n",
            "/content/drive/My Drive/pitonism/DiplomeDrunkBase/drunk_animal_word/drunk_animal_world (22).m4a\n",
            "/content/drive/My Drive/pitonism/DiplomeDrunkBase/drunk_animal_word/drunk_animal_world (23).m4a\n",
            "/content/drive/My Drive/pitonism/DiplomeDrunkBase/drunk_animal_word/drunk_animal_world (24).m4a\n",
            "/content/drive/My Drive/pitonism/DiplomeDrunkBase/drunk_animal_word/drunk_animal_world (25).m4a\n",
            "/content/drive/My Drive/pitonism/DiplomeDrunkBase/drunk_animal_word/drunk_animal_world (26).m4a\n",
            "/content/drive/My Drive/pitonism/DiplomeDrunkBase/drunk_animal_word/drunk_animal_world (27).m4a\n",
            "/content/drive/My Drive/pitonism/DiplomeDrunkBase/drunk_animal_word/drunk_animal_world (28).m4a\n",
            "/content/drive/My Drive/pitonism/DiplomeDrunkBase/drunk_animal_word/drunk_animal_world (29).m4a\n",
            "/content/drive/My Drive/pitonism/DiplomeDrunkBase/drunk_animal_word/drunk_animal_world (30).m4a\n",
            "/content/drive/My Drive/pitonism/DiplomeDrunkBase/drunk_animal_word/drunk_animal_world (31).m4a\n",
            "/content/drive/My Drive/pitonism/DiplomeDrunkBase/drunk_animal_word/drunk_animal_world (32).m4a\n",
            "/content/drive/My Drive/pitonism/DiplomeDrunkBase/drunk_animal_word/drunk_animal_world (33).m4a\n",
            "/content/drive/My Drive/pitonism/DiplomeDrunkBase/drunk_animal_word/drunk_animal_world (34).m4a\n",
            "/content/drive/My Drive/pitonism/DiplomeDrunkBase/drunk_animal_word/drunk_animal_world (35).m4a\n",
            "/content/drive/My Drive/pitonism/DiplomeDrunkBase/drunk_animal_word/drunk_animal_world (36).m4a\n",
            "/content/drive/My Drive/pitonism/DiplomeDrunkBase/drunk_animal_word/drunk_animal_world (37).m4a\n",
            "/content/drive/My Drive/pitonism/DiplomeDrunkBase/drunk_animal_word/drunk_animal_world (38).m4a\n",
            "/content/drive/My Drive/pitonism/DiplomeDrunkBase/drunk_animal_word/drunk_animal_world (39).m4a\n",
            "/content/drive/My Drive/pitonism/DiplomeDrunkBase/drunk_animal_word/drunk_animal_world (40).m4a\n",
            "/content/drive/My Drive/pitonism/DiplomeDrunkBase/drunk_animal_word/drunk_animal_world (41).m4a\n",
            "/content/drive/My Drive/pitonism/DiplomeDrunkBase/drunk_animal_word/drunk_animal_world (42).m4a\n",
            "/content/drive/My Drive/pitonism/DiplomeDrunkBase/drunk_animal_word/drunk_animal_world (43).m4a\n",
            "/content/drive/My Drive/pitonism/DiplomeDrunkBase/drunk_animal_word/drunk_animal_world (44).m4a\n",
            "/content/drive/My Drive/pitonism/DiplomeDrunkBase/drunk_animal_word/drunk_animal_world (45).m4a\n",
            "/content/drive/My Drive/pitonism/DiplomeDrunkBase/drunk_animal_word/drunk_animal_world (46).m4a\n",
            "/content/drive/My Drive/pitonism/DiplomeDrunkBase/drunk_animal_word/drunk_animal_world (47).m4a\n",
            "/content/drive/My Drive/pitonism/DiplomeDrunkBase/drunk_animal_word/drunk_animal_world (48).m4a\n",
            "/content/drive/My Drive/pitonism/DiplomeDrunkBase/drunk_animal_word/drunk_animal_world (49).m4a\n",
            "Состояние drunk_animal_word готов -> 266c\n",
            "/content/drive/My Drive/pitonism/DiplomeDrunkBase/sober_animal_world/animal_world_sober (30).m4a\n",
            "/content/drive/My Drive/pitonism/DiplomeDrunkBase/sober_animal_world/animal_world_sober (31).m4a\n",
            "/content/drive/My Drive/pitonism/DiplomeDrunkBase/sober_animal_world/animal_world_sober (32).m4a\n",
            "/content/drive/My Drive/pitonism/DiplomeDrunkBase/sober_animal_world/animal_world_sober (33).m4a\n",
            "/content/drive/My Drive/pitonism/DiplomeDrunkBase/sober_animal_world/animal_world_sober (34).m4a\n",
            "/content/drive/My Drive/pitonism/DiplomeDrunkBase/sober_animal_world/animal_world_sober (35).m4a\n",
            "/content/drive/My Drive/pitonism/DiplomeDrunkBase/sober_animal_world/animal_world_sober (36).m4a\n",
            "/content/drive/My Drive/pitonism/DiplomeDrunkBase/sober_animal_world/animal_world_sober (37).m4a\n",
            "/content/drive/My Drive/pitonism/DiplomeDrunkBase/sober_animal_world/animal_world_sober (38).m4a\n",
            "/content/drive/My Drive/pitonism/DiplomeDrunkBase/sober_animal_world/animal_world_sober (39).m4a\n",
            "/content/drive/My Drive/pitonism/DiplomeDrunkBase/sober_animal_world/animal_world_sober (40).m4a\n",
            "/content/drive/My Drive/pitonism/DiplomeDrunkBase/sober_animal_world/animal_world_sober (41).m4a\n",
            "/content/drive/My Drive/pitonism/DiplomeDrunkBase/sober_animal_world/animal_world_sober (42).m4a\n",
            "/content/drive/My Drive/pitonism/DiplomeDrunkBase/sober_animal_world/animal_world_sober (43).m4a\n",
            "/content/drive/My Drive/pitonism/DiplomeDrunkBase/sober_animal_world/animal_world_sober (44).m4a\n",
            "/content/drive/My Drive/pitonism/DiplomeDrunkBase/sober_animal_world/animal_world_sober (45).m4a\n",
            "/content/drive/My Drive/pitonism/DiplomeDrunkBase/sober_animal_world/animal_world_sober (46).m4a\n",
            "/content/drive/My Drive/pitonism/DiplomeDrunkBase/sober_animal_world/animal_world_sober (47).m4a\n",
            "/content/drive/My Drive/pitonism/DiplomeDrunkBase/sober_animal_world/animal_world_sober (48).m4a\n",
            "/content/drive/My Drive/pitonism/DiplomeDrunkBase/sober_animal_world/animal_world_sober (49).m4a\n",
            "/content/drive/My Drive/pitonism/DiplomeDrunkBase/sober_animal_world/animal_world_sober (50).m4a\n",
            "/content/drive/My Drive/pitonism/DiplomeDrunkBase/sober_animal_world/animal_world_sober (1).m4a\n",
            "/content/drive/My Drive/pitonism/DiplomeDrunkBase/sober_animal_world/animal_world_sober (2).m4a\n",
            "/content/drive/My Drive/pitonism/DiplomeDrunkBase/sober_animal_world/animal_world_sober (3).m4a\n",
            "/content/drive/My Drive/pitonism/DiplomeDrunkBase/sober_animal_world/animal_world_sober (4).m4a\n",
            "/content/drive/My Drive/pitonism/DiplomeDrunkBase/sober_animal_world/animal_world_sober (5).m4a\n",
            "/content/drive/My Drive/pitonism/DiplomeDrunkBase/sober_animal_world/animal_world_sober (6).m4a\n",
            "/content/drive/My Drive/pitonism/DiplomeDrunkBase/sober_animal_world/animal_world_sober (7).m4a\n",
            "/content/drive/My Drive/pitonism/DiplomeDrunkBase/sober_animal_world/animal_world_sober (8).m4a\n",
            "/content/drive/My Drive/pitonism/DiplomeDrunkBase/sober_animal_world/animal_world_sober (9).m4a\n",
            "/content/drive/My Drive/pitonism/DiplomeDrunkBase/sober_animal_world/animal_world_sober (10).m4a\n",
            "/content/drive/My Drive/pitonism/DiplomeDrunkBase/sober_animal_world/animal_world_sober (11).m4a\n",
            "/content/drive/My Drive/pitonism/DiplomeDrunkBase/sober_animal_world/animal_world_sober (12).m4a\n",
            "/content/drive/My Drive/pitonism/DiplomeDrunkBase/sober_animal_world/animal_world_sober (13).m4a\n",
            "/content/drive/My Drive/pitonism/DiplomeDrunkBase/sober_animal_world/animal_world_sober (14).m4a\n",
            "/content/drive/My Drive/pitonism/DiplomeDrunkBase/sober_animal_world/animal_world_sober (15).m4a\n",
            "/content/drive/My Drive/pitonism/DiplomeDrunkBase/sober_animal_world/animal_world_sober (16).m4a\n",
            "/content/drive/My Drive/pitonism/DiplomeDrunkBase/sober_animal_world/animal_world_sober (17).m4a\n",
            "/content/drive/My Drive/pitonism/DiplomeDrunkBase/sober_animal_world/animal_world_sober (18).m4a\n",
            "/content/drive/My Drive/pitonism/DiplomeDrunkBase/sober_animal_world/animal_world_sober (19).m4a\n",
            "/content/drive/My Drive/pitonism/DiplomeDrunkBase/sober_animal_world/animal_world_sober (20).m4a\n",
            "/content/drive/My Drive/pitonism/DiplomeDrunkBase/sober_animal_world/animal_world_sober (21).m4a\n",
            "/content/drive/My Drive/pitonism/DiplomeDrunkBase/sober_animal_world/animal_world_sober (22).m4a\n",
            "/content/drive/My Drive/pitonism/DiplomeDrunkBase/sober_animal_world/animal_world_sober (23).m4a\n",
            "/content/drive/My Drive/pitonism/DiplomeDrunkBase/sober_animal_world/animal_world_sober (24).m4a\n",
            "/content/drive/My Drive/pitonism/DiplomeDrunkBase/sober_animal_world/animal_world_sober (25).m4a\n",
            "/content/drive/My Drive/pitonism/DiplomeDrunkBase/sober_animal_world/animal_world_sober (26).m4a\n",
            "/content/drive/My Drive/pitonism/DiplomeDrunkBase/sober_animal_world/animal_world_sober (27).m4a\n",
            "/content/drive/My Drive/pitonism/DiplomeDrunkBase/sober_animal_world/animal_world_sober (28).m4a\n",
            "/content/drive/My Drive/pitonism/DiplomeDrunkBase/sober_animal_world/animal_world_sober (29).m4a\n",
            "Состояние sober_animal_world готов -> 251c\n",
            "(2569, 5)\n",
            "(2569, 12, 173)\n",
            "(2569, 20, 173)\n",
            "(2569, 2)\n"
          ],
          "name": "stdout"
        }
      ]
    },
    {
      "cell_type": "code",
      "metadata": {
        "id": "PZXfzhjTKaWn"
      },
      "source": [
        "#квадрат значений\n",
        "X_train_sqr = np.array([[t**2 for t in x] for x in X_train])\n",
        "X_test_sqr = np.array([[t**2 for t in x] for x in x_test])\n",
        "#квадратный корнь из абсолютных значений \n",
        "X_train_sqrt = np.array([[abs(t)**0.5 for t in x] for x in X_train])\n",
        "X_test_sqrt = np.array([[abs(t)**0.5 for t in x] for x in X_test])\n",
        "#1/t\n",
        "X_train_inv = np.array([[t**(-1) for t in x] for x in X_train])\n",
        "X_test_inv = np.array([[t**(-1) for t in x] for x in X_test])\n",
        "#2 в степени t\n",
        "X_train_exp = np.array([[2**t for t in x] for x in X_train])\n",
        "X_test_exp = np.array([[2**t for t in x] for x in X_test])\n",
        "#объединяем все массивы(Функция hstack() соединяет массивы по горизонтали)\n",
        "X_train_2 = np.hstack([X_train, X_train_sqr, X_train_sqrt, X_train_inv, X_train_exp])\n",
        "X_test_2 = np.hstack([X_test, X_test_sqr, X_test_sqrt, X_test_inv, X_test_exp])\n",
        "\n",
        "print(X_train_2.shape)\n",
        "print(X_test_2.shape)"
      ],
      "execution_count": null,
      "outputs": []
    },
    {
      "cell_type": "code",
      "metadata": {
        "id": "0pH_P4ZLmJQn"
      },
      "source": [
        "#Сохраним наши массивы данных\n",
        "np.save('/content/drive/My Drive/pitonism/DiplomeDrunkBase/X_train.npy', X_train)\n",
        "np.save('/content/drive/My Drive/pitonism/DiplomeDrunkBase/X2_train.npy', X2_train)\n",
        "np.save('/content/drive/My Drive/pitonism/DiplomeDrunkBase/X3_train.npy', X3_train)\n",
        "np.save('/content/drive/My Drive/pitonism/DiplomeDrunkBase/Y_train.npy', Y_train)"
      ],
      "execution_count": null,
      "outputs": []
    },
    {
      "cell_type": "code",
      "metadata": {
        "id": "N2JKG9b9mzks"
      },
      "source": [
        "#Загрузим данные, если надо\n",
        "X_train = np.load('/content/drive/My Drive/pitonism/DiplomeDrunkBase/X_train.npy')\n",
        "X2_train = np.load('/content/drive/My Drive/pitonism/DiplomeDrunkBase/X2_train.npy')\n",
        "X3_train = np.load('/content/drive/My Drive/pitonism/DiplomeDrunkBase/X3_train.npy')\n",
        "Y_train = np.load('/content/drive/My Drive/pitonism/DiplomeDrunkBase/Y_train.npy')"
      ],
      "execution_count": null,
      "outputs": []
    },
    {
      "cell_type": "code",
      "metadata": {
        "id": "qGjNQWFTv6k7",
        "colab": {
          "base_uri": "https://localhost:8080/"
        },
        "outputId": "8d57cced-c3c8-4d75-e920-8fb8a1384074"
      },
      "source": [
        "#ФОРМИРУЕМ \n",
        "y_train_class = np.argmax(Y_train, axis=1)\n",
        "print(y_train_class)"
      ],
      "execution_count": null,
      "outputs": [
        {
          "output_type": "stream",
          "text": [
            "[0 0 0 ... 1 1 1]\n"
          ],
          "name": "stdout"
        }
      ]
    },
    {
      "cell_type": "code",
      "metadata": {
        "id": "Rw6iaHE59rYX"
      },
      "source": [
        "X_train1, X_test1, Y_train1, Y_test1 = train_test_split(X_train, y_train_class, test_size=0.1)\n",
        "X2_train1, X2_test1 = train_test_split(X2_train, test_size=0.1)\n",
        "X3_train1, X3_test1 = train_test_split(X3_train, test_size=0.1)"
      ],
      "execution_count": null,
      "outputs": []
    },
    {
      "cell_type": "code",
      "metadata": {
        "id": "YMJLSW8FDCz_"
      },
      "source": [
        "a = 1750"
      ],
      "execution_count": null,
      "outputs": []
    },
    {
      "cell_type": "code",
      "metadata": {
        "id": "nBcrVL4PFa14"
      },
      "source": [
        "X_train1 = X_train[0:a]\n",
        "X2_train1 = X2_train[0:a]\n",
        "X3_train1 = X3_train[0:a]\n",
        "X_test1 = X_train[a+5:]\n",
        "X2_test1 = X2_train[a+5:]\n",
        "X3_test1 = X3_train[a+5:]\n",
        "Y_test1 = Y_train[a+5:]\n",
        "Y_train1 = Y_train[:a]"
      ],
      "execution_count": null,
      "outputs": []
    },
    {
      "cell_type": "code",
      "metadata": {
        "id": "rBgJ5nU790-l",
        "colab": {
          "base_uri": "https://localhost:8080/"
        },
        "outputId": "4e6ab10d-4117-496c-f9fb-e907a9f1473c"
      },
      "source": [
        "print(X_test1.shape)\n",
        "print(X_train1.shape)\n",
        "print(X2_test1.shape)\n",
        "print(X2_train1.shape)\n",
        "print(X3_test1.shape)\n",
        "print(X3_train1.shape)\n",
        "print(Y_test1.shape)\n",
        "print(Y_train1.shape)\n",
        "X4_test1 = X3_test1\n",
        "print(X4_test1.shape)"
      ],
      "execution_count": null,
      "outputs": [
        {
          "output_type": "stream",
          "text": [
            "(257, 5)\n",
            "(2312, 5)\n",
            "(257, 12, 173)\n",
            "(2312, 12, 173)\n",
            "(257, 20, 173)\n",
            "(2312, 20, 173)\n",
            "(257,)\n",
            "(2312,)\n",
            "(257, 20, 173)\n"
          ],
          "name": "stdout"
        }
      ]
    },
    {
      "cell_type": "markdown",
      "metadata": {
        "id": "nqjBTw29y4MD"
      },
      "source": [
        "### НОРМИРУЕМ НАШИ ДАННЫЕ"
      ]
    },
    {
      "cell_type": "code",
      "metadata": {
        "id": "DGN7PmfEaF7_"
      },
      "source": [
        "# к двумерным массивам применяем StandartScaller\n",
        "scaler = StandardScaler()\n",
        "X_test1 = scaler.fit_transform(X_test1)\n",
        "X_train1 = scaler.fit_transform(X_train1)"
      ],
      "execution_count": null,
      "outputs": []
    },
    {
      "cell_type": "code",
      "metadata": {
        "id": "Bjr_A_PUITa2"
      },
      "source": [
        "#трёхмерные массивы нормируем вручную: делим поэлементно все значения на максимальное\n",
        "X2_test1  =  np.array(X2_test1/np.max(X2_test1))\n",
        "X2_train1 =  np.array(X2_train1/np.max(X2_train1))\n",
        "X3_train1 =  np.array(X3_train1/np.max(X3_train1))\n",
        "X3_test1  =  np.array(X3_test1/np.max(X3_test1))"
      ],
      "execution_count": null,
      "outputs": []
    },
    {
      "cell_type": "markdown",
      "metadata": {
        "id": "mfVTO6tQBZOx"
      },
      "source": [
        "#НЕЙРОННАЯ СЕТЬ"
      ]
    },
    {
      "cell_type": "code",
      "metadata": {
        "id": "h6zULe3y92fG"
      },
      "source": [
        "inp = Input(shape = (5,))\n",
        "inp2 = Input(shape = (12,173))\n",
        "inp3 = Input(shape = (20, 173))\n",
        "inp4 = Input(shape = (20,173))\n",
        "x41 = Conv1D (8, (4))(inp4)\n",
        "x41 = Flatten() (x41)\n",
        "x41 = Dense (128, activation = 'elu')(x41)\n",
        "x21 = Conv1D (8, (4))(inp2)\n",
        "x21 = Flatten()(x21)\n",
        "x31 = Conv1D (8, (4))(inp3)\n",
        "x31 = Flatten()(x31)\n",
        "x21 = Dense (256, activation='elu')(x21)\n",
        "x31 = Dense (256, activation='elu')(x31)\n",
        "#x2 = concatenate ([x21, x31], axis = 1)\n",
        "x = Dense(256, activation='elu')(inp)\n",
        "x = Reshape ((1, 256))(x)\n",
        "x = Conv1D (4, (2), activation = 'elu', padding = 'same')(x)\n",
        "x = Flatten ()(x)\n",
        "x4 = concatenate ([x, x21, x31, x41])\n",
        "x4 = Dense (256, activation='elu')(x4)\n",
        "ext = Dense(2, activation='softmax')(x4)\n",
        "modelnew = Model ((inp, inp2, inp3, inp4), ext)"
      ],
      "execution_count": null,
      "outputs": []
    },
    {
      "cell_type": "code",
      "metadata": {
        "colab": {
          "base_uri": "https://localhost:8080/",
          "height": 547
        },
        "id": "T4uT8Ve_IB3U",
        "outputId": "446eaebc-e806-4b9d-9082-4fde88b2f22d"
      },
      "source": [
        "plot_model(modelnew, dpi=60, show_shapes=True, show_layer_names=True)"
      ],
      "execution_count": null,
      "outputs": [
        {
          "output_type": "execute_result",
          "data": {
            "image/png": "[encoded data removed]",
            "text/plain": [
              "<IPython.core.display.Image object>"
            ]
          },
          "metadata": {
            "tags": []
          },
          "execution_count": 24
        }
      ]
    },
    {
      "cell_type": "code",
      "metadata": {
        "colab": {
          "base_uri": "https://localhost:8080/",
          "height": 1000
        },
        "id": "SlPPRnOcxT_b",
        "outputId": "65ca3614-f323-4f56-e721-077acd24d8e7"
      },
      "source": [
        "#Компилируем сеть\n",
        "modelnew.compile(optimizer=RMSprop(lr=1e-4),\n",
        "              loss='sparse_categorical_crossentropy',\n",
        "              metrics=['accuracy'])\n",
        "#Обучаем\n",
        "history = modelnew.fit((X_train1, X2_train1, X3_train1, X3_train1),\n",
        "                    Y_train1,\n",
        "                    epochs = 50,\n",
        "                    batch_size=4,\n",
        "                    validation_data=((X_test1, X2_test1, X3_test1, X3_test1), Y_test1))\n",
        "#Выводим график точности распознавания на обучающей и проверочной выборках\n",
        "plt.plot(history.history[\"accuracy\"])\n",
        "plt.plot(history.history[\"val_accuracy\"])\n",
        "plt.show()"
      ],
      "execution_count": null,
      "outputs": [
        {
          "output_type": "stream",
          "text": [
            "Epoch 1/50\n",
            "578/578 [==============================] - 5s 7ms/step - loss: 0.6691 - accuracy: 0.5859 - val_loss: 0.5365 - val_accuracy: 0.7471\n",
            "Epoch 2/50\n",
            "578/578 [==============================] - 4s 7ms/step - loss: 0.5363 - accuracy: 0.7187 - val_loss: 0.5268 - val_accuracy: 0.7471\n",
            "Epoch 3/50\n",
            "578/578 [==============================] - 4s 7ms/step - loss: 0.5126 - accuracy: 0.7498 - val_loss: 0.5316 - val_accuracy: 0.7471\n",
            "Epoch 4/50\n",
            "578/578 [==============================] - 4s 7ms/step - loss: 0.4696 - accuracy: 0.7680 - val_loss: 0.5367 - val_accuracy: 0.7237\n",
            "Epoch 5/50\n",
            "578/578 [==============================] - 4s 7ms/step - loss: 0.4365 - accuracy: 0.7856 - val_loss: 0.5329 - val_accuracy: 0.7276\n",
            "Epoch 6/50\n",
            "578/578 [==============================] - 4s 7ms/step - loss: 0.3984 - accuracy: 0.8095 - val_loss: 0.5274 - val_accuracy: 0.7393\n",
            "Epoch 7/50\n",
            "578/578 [==============================] - 4s 7ms/step - loss: 0.3726 - accuracy: 0.8355 - val_loss: 0.5661 - val_accuracy: 0.7354\n",
            "Epoch 8/50\n",
            "578/578 [==============================] - 4s 7ms/step - loss: 0.3359 - accuracy: 0.8468 - val_loss: 0.5998 - val_accuracy: 0.7121\n",
            "Epoch 9/50\n",
            "578/578 [==============================] - 4s 7ms/step - loss: 0.3064 - accuracy: 0.8576 - val_loss: 0.6556 - val_accuracy: 0.7276\n",
            "Epoch 10/50\n",
            "578/578 [==============================] - 4s 7ms/step - loss: 0.2627 - accuracy: 0.8991 - val_loss: 0.7026 - val_accuracy: 0.7315\n",
            "Epoch 11/50\n",
            "578/578 [==============================] - 4s 7ms/step - loss: 0.2286 - accuracy: 0.9104 - val_loss: 0.7138 - val_accuracy: 0.7432\n",
            "Epoch 12/50\n",
            "578/578 [==============================] - 4s 7ms/step - loss: 0.2281 - accuracy: 0.9182 - val_loss: 0.7340 - val_accuracy: 0.7510\n",
            "Epoch 13/50\n",
            "578/578 [==============================] - 4s 7ms/step - loss: 0.2140 - accuracy: 0.9169 - val_loss: 0.8937 - val_accuracy: 0.7276\n",
            "Epoch 14/50\n",
            "578/578 [==============================] - 4s 7ms/step - loss: 0.1689 - accuracy: 0.9407 - val_loss: 0.8445 - val_accuracy: 0.7471\n",
            "Epoch 15/50\n",
            "578/578 [==============================] - 4s 7ms/step - loss: 0.1536 - accuracy: 0.9484 - val_loss: 0.9466 - val_accuracy: 0.7471\n",
            "Epoch 16/50\n",
            "578/578 [==============================] - 4s 7ms/step - loss: 0.1440 - accuracy: 0.9407 - val_loss: 0.9668 - val_accuracy: 0.7393\n",
            "Epoch 17/50\n",
            "578/578 [==============================] - 4s 7ms/step - loss: 0.1135 - accuracy: 0.9599 - val_loss: 1.1241 - val_accuracy: 0.7510\n",
            "Epoch 18/50\n",
            "578/578 [==============================] - 4s 7ms/step - loss: 0.0841 - accuracy: 0.9749 - val_loss: 1.2629 - val_accuracy: 0.7510\n",
            "Epoch 19/50\n",
            "578/578 [==============================] - 4s 7ms/step - loss: 0.0590 - accuracy: 0.9846 - val_loss: 1.3413 - val_accuracy: 0.7665\n",
            "Epoch 20/50\n",
            "578/578 [==============================] - 4s 7ms/step - loss: 0.0530 - accuracy: 0.9884 - val_loss: 1.5035 - val_accuracy: 0.7471\n",
            "Epoch 21/50\n",
            "578/578 [==============================] - 4s 7ms/step - loss: 0.0393 - accuracy: 0.9909 - val_loss: 1.7132 - val_accuracy: 0.7432\n",
            "Epoch 22/50\n",
            "578/578 [==============================] - 4s 7ms/step - loss: 0.0343 - accuracy: 0.9916 - val_loss: 1.8917 - val_accuracy: 0.7276\n",
            "Epoch 23/50\n",
            "578/578 [==============================] - 4s 7ms/step - loss: 0.0186 - accuracy: 0.9954 - val_loss: 2.0813 - val_accuracy: 0.7549\n",
            "Epoch 24/50\n",
            "578/578 [==============================] - 4s 7ms/step - loss: 0.0117 - accuracy: 0.9973 - val_loss: 2.2230 - val_accuracy: 0.7626\n",
            "Epoch 25/50\n",
            "578/578 [==============================] - 4s 7ms/step - loss: 0.0088 - accuracy: 0.9991 - val_loss: 2.6218 - val_accuracy: 0.7432\n",
            "Epoch 26/50\n",
            "578/578 [==============================] - 4s 7ms/step - loss: 0.0061 - accuracy: 0.9989 - val_loss: 2.7970 - val_accuracy: 0.7432\n",
            "Epoch 27/50\n",
            "578/578 [==============================] - 4s 7ms/step - loss: 0.0033 - accuracy: 1.0000 - val_loss: 3.1578 - val_accuracy: 0.7276\n",
            "Epoch 28/50\n",
            "578/578 [==============================] - 4s 7ms/step - loss: 0.0028 - accuracy: 0.9996 - val_loss: 3.1821 - val_accuracy: 0.7471\n",
            "Epoch 29/50\n",
            "578/578 [==============================] - 4s 7ms/step - loss: 9.9578e-04 - accuracy: 1.0000 - val_loss: 3.4356 - val_accuracy: 0.7471\n",
            "Epoch 30/50\n",
            "578/578 [==============================] - 4s 7ms/step - loss: 0.0010 - accuracy: 1.0000 - val_loss: 3.6548 - val_accuracy: 0.7393\n",
            "Epoch 31/50\n",
            "578/578 [==============================] - 4s 7ms/step - loss: 5.8157e-04 - accuracy: 1.0000 - val_loss: 4.0146 - val_accuracy: 0.7549\n",
            "Epoch 32/50\n",
            "578/578 [==============================] - 4s 7ms/step - loss: 2.9963e-04 - accuracy: 1.0000 - val_loss: 4.1901 - val_accuracy: 0.7510\n",
            "Epoch 33/50\n",
            "578/578 [==============================] - 4s 7ms/step - loss: 1.2592e-04 - accuracy: 1.0000 - val_loss: 4.5728 - val_accuracy: 0.7471\n",
            "Epoch 34/50\n",
            "578/578 [==============================] - 4s 7ms/step - loss: 3.7170e-04 - accuracy: 1.0000 - val_loss: 4.8352 - val_accuracy: 0.7432\n",
            "Epoch 35/50\n",
            "578/578 [==============================] - 4s 7ms/step - loss: 1.5038e-04 - accuracy: 1.0000 - val_loss: 5.0612 - val_accuracy: 0.7354\n",
            "Epoch 36/50\n",
            "578/578 [==============================] - 4s 7ms/step - loss: 6.7898e-05 - accuracy: 1.0000 - val_loss: 5.3726 - val_accuracy: 0.7471\n",
            "Epoch 37/50\n",
            "578/578 [==============================] - 4s 7ms/step - loss: 3.5266e-05 - accuracy: 1.0000 - val_loss: 5.4915 - val_accuracy: 0.7393\n",
            "Epoch 38/50\n",
            "578/578 [==============================] - 4s 7ms/step - loss: 3.0905e-05 - accuracy: 1.0000 - val_loss: 5.6974 - val_accuracy: 0.7588\n",
            "Epoch 39/50\n",
            "578/578 [==============================] - 4s 7ms/step - loss: 7.4468e-05 - accuracy: 1.0000 - val_loss: 6.0270 - val_accuracy: 0.7549\n",
            "Epoch 40/50\n",
            "578/578 [==============================] - 4s 7ms/step - loss: 1.4055e-05 - accuracy: 1.0000 - val_loss: 6.4873 - val_accuracy: 0.7549\n",
            "Epoch 41/50\n",
            "578/578 [==============================] - 4s 7ms/step - loss: 1.0211e-05 - accuracy: 1.0000 - val_loss: 6.6307 - val_accuracy: 0.7432\n",
            "Epoch 42/50\n",
            "578/578 [==============================] - 4s 7ms/step - loss: 5.7032e-06 - accuracy: 1.0000 - val_loss: 6.7740 - val_accuracy: 0.7471\n",
            "Epoch 43/50\n",
            "578/578 [==============================] - 4s 7ms/step - loss: 3.0606e-06 - accuracy: 1.0000 - val_loss: 7.1945 - val_accuracy: 0.7393\n",
            "Epoch 44/50\n",
            "578/578 [==============================] - 4s 7ms/step - loss: 2.0842e-06 - accuracy: 1.0000 - val_loss: 7.2804 - val_accuracy: 0.7432\n",
            "Epoch 45/50\n",
            "578/578 [==============================] - 4s 7ms/step - loss: 2.6042e-06 - accuracy: 1.0000 - val_loss: 7.1713 - val_accuracy: 0.7471\n",
            "Epoch 46/50\n",
            "578/578 [==============================] - 4s 7ms/step - loss: 2.1730e-06 - accuracy: 1.0000 - val_loss: 7.0730 - val_accuracy: 0.7588\n",
            "Epoch 47/50\n",
            "578/578 [==============================] - 4s 7ms/step - loss: 1.0207e-06 - accuracy: 1.0000 - val_loss: 7.6101 - val_accuracy: 0.7354\n",
            "Epoch 48/50\n",
            "578/578 [==============================] - 4s 7ms/step - loss: 4.2971e-07 - accuracy: 1.0000 - val_loss: 7.8294 - val_accuracy: 0.7510\n",
            "Epoch 49/50\n",
            "578/578 [==============================] - 4s 7ms/step - loss: 2.2990e-06 - accuracy: 1.0000 - val_loss: 7.6373 - val_accuracy: 0.7354\n",
            "Epoch 50/50\n",
            "578/578 [==============================] - 4s 7ms/step - loss: 1.1322e-06 - accuracy: 1.0000 - val_loss: 7.6807 - val_accuracy: 0.7471\n"
          ],
          "name": "stdout"
        },
        {
          "output_type": "display_data",
          "data": {
            "image/png": "[encoded data removed]",
            "text/plain": [
              "<Figure size 432x288 with 1 Axes>"
            ]
          },
          "metadata": {
            "tags": [],
            "needs_background": "light"
          }
        }
      ]
    },
    {
      "cell_type": "code",
      "metadata": {
        "id": "xXJlE1hAyWAs"
      },
      "source": [
        "modelnew.save_weights('/content/drive/MyDrive/pitonism/my_new_model.hdf5')\n",
        "#modelnew.load_weights('/content/drive/MyDrive/pitonism/my_new_model.hdf5')"
      ],
      "execution_count": null,
      "outputs": []
    },
    {
      "cell_type": "markdown",
      "metadata": {
        "id": "kTOYXDHIN5is"
      },
      "source": [
        "###ЧЕРНОВИКИ, ПОДВАЛ И МУСОРКА"
      ]
    },
    {
      "cell_type": "code",
      "metadata": {
        "id": "xOSUfVL--PZt"
      },
      "source": [
        "#indexes = range(0,5)\n",
        "model = Sequential()\n",
        "model.add(Dense(256, activation='relu', input_shape=(5,)))\n",
        "#model.add(Reshape(1,256))\n",
        "#model.add(Conv1D (2, 2,  activation='relu'))\n",
        "#model.add (Flatten ())\n",
        "#model.add(Dense(925, activation='relu'))\n",
        "model.add(Dense(128, activation='relu'))\n",
        "model.add(Dense(2, activation='relu'))\n",
        "model.add(Dense(len(DiplomeDrunkBase), activation='softmax'))\n",
        "#Компилируем сеть\n",
        "model.compile(optimizer=RMSprop(lr=1e-4),\n",
        "              loss='categorical_crossentropy',\n",
        "              metrics=['accuracy'])\n",
        "#Обучаем\n",
        "history = model.fit(X_train1,\n",
        "                    Y_train1,\n",
        "                    epochs = 50,\n",
        "                    batch_size=4,\n",
        "                    validation_data=(X_test1, Y_test1))\n",
        "#Выводим график точности распознавания на обучающей и проверочной выборках\n",
        "plt.plot(history.history[\"accuracy\"])\n",
        "plt.plot(history.history[\"val_accuracy\"])\n",
        "plt.show()"
      ],
      "execution_count": null,
      "outputs": []
    },
    {
      "cell_type": "code",
      "metadata": {
        "colab": {
          "base_uri": "https://localhost:8080/"
        },
        "id": "1OY3z-UJrWwI",
        "outputId": "f233b6f8-fb01-4890-b8bc-d8eedb64b7c1"
      },
      "source": [
        "print(model.summary()) "
      ],
      "execution_count": null,
      "outputs": [
        {
          "output_type": "stream",
          "text": [
            "Model: \"sequential_37\"\n",
            "_________________________________________________________________\n",
            "Layer (type)                 Output Shape              Param #   \n",
            "=================================================================\n",
            "dense_113 (Dense)            (None, 256)               1536      \n",
            "=================================================================\n",
            "Total params: 1,536\n",
            "Trainable params: 1,536\n",
            "Non-trainable params: 0\n",
            "_________________________________________________________________\n",
            "None\n"
          ],
          "name": "stdout"
        }
      ]
    },
    {
      "cell_type": "code",
      "metadata": {
        "colab": {
          "base_uri": "https://localhost:8080/",
          "height": 113
        },
        "id": "06CMn3UVrxyL",
        "outputId": "6ecbbb48-53b9-4039-efd6-e2185960fdd6"
      },
      "source": [
        "plot_model(model, dpi=50, show_shapes=True, show_layer_names=True)"
      ],
      "execution_count": null,
      "outputs": [
        {
          "output_type": "execute_result",
          "data": {
            "image/png": "[encoded data removed]",
            "text/plain": [
              "<IPython.core.display.Image object>"
            ]
          },
          "metadata": {
            "tags": []
          },
          "execution_count": 255
        }
      ]
    },
    {
      "cell_type": "code",
      "metadata": {
        "colab": {
          "base_uri": "https://localhost:8080/"
        },
        "id": "9xGD5SpMT2xw",
        "outputId": "611956a9-1de3-4d61-f873-70fd15876e14"
      },
      "source": [
        "indexes"
      ],
      "execution_count": null,
      "outputs": [
        {
          "output_type": "execute_result",
          "data": {
            "text/plain": [
              "range(0, 5)"
            ]
          },
          "metadata": {
            "tags": []
          },
          "execution_count": 83
        }
      ]
    },
    {
      "cell_type": "code",
      "metadata": {
        "id": "2GycYnBUjjV-"
      },
      "source": [
        "indexes = range(0,37)\n",
        "\n",
        "#Создаём полносвязанную сеть \n",
        "model = Sequential()\n",
        "\n",
        "\n",
        "model.add(Dense(256, activation='relu', input_shape=(len(indexes),)))\n",
        "\n",
        "model.add(Conv1D (128, 20, activation='relu' ) )\n",
        "\n",
        "model.add(Dense(64, activation='relu'))\n",
        "BatchNormalization\n",
        "Dropout (0.2)\n",
        "#model.add(Dense(128, activation='relu'))\n",
        "model.add(Dense(32, activation='relu'))\n",
        "#В конце количество нейронов равно количеству классов и softmax\n",
        "model.add(Dense(len(DiplomeDrunkBase), activation='softmax'))\n",
        "model.add(Dense(2, activation='relu'))\n",
        "#Компилируем сеть\n",
        "model.compile(optimizer=Adam(lr=1e-4),\n",
        "              loss='sparse_categorical_crossentropy',\n",
        "              metrics=['accuracy'])\n",
        "\n",
        "#Обучаем\n",
        "history = model.fit(X_train[:, indexes],\n",
        "                    y_train,\n",
        "                    epochs = 1000,\n",
        "                    batch_size=15,\n",
        "                    validation_data=(X_test[:, indexes], y_test))\n",
        "\n",
        "#Выводим график точности распознавания на обучающей и проверочной выборках\n",
        "plt.plot(history.history[\"accuracy\"])\n",
        "plt.plot(history.history[\"val_accuracy\"])\n",
        "plt.show()"
      ],
      "execution_count": null,
      "outputs": []
    },
    {
      "cell_type": "code",
      "metadata": {
        "id": "N2QeYUnH-1EX"
      },
      "source": [
        "model.summary()"
      ],
      "execution_count": null,
      "outputs": []
    },
    {
      "cell_type": "code",
      "metadata": {
        "id": "pas4aS9WACOq"
      },
      "source": [
        "#Выбираем голос для распознавания\n",
        "songname = '/content/drive/MyDrive/pitonism/TestExamles/Sober.m4a'\n",
        "#Получаем аудио сигнал\n",
        "y, sr = librosa.load(songname, mono=True, duration= (10))\n",
        "y = y[2*sr:6*sr]\n",
        "#Параметризуем сигнал\n",
        "out = get_features(y, sr)"
      ],
      "execution_count": null,
      "outputs": []
    },
    {
      "cell_type": "code",
      "metadata": {
        "id": "SNY-hPioNsFt"
      },
      "source": [
        ""
      ],
      "execution_count": null,
      "outputs": []
    },
    {
      "cell_type": "code",
      "metadata": {
        "id": "g-oo0Z_iAGUc"
      },
      "source": [
        "out= np.array(out)"
      ],
      "execution_count": null,
      "outputs": []
    },
    {
      "cell_type": "code",
      "metadata": {
        "colab": {
          "base_uri": "https://localhost:8080/"
        },
        "id": "wKsjdrxXURL8",
        "outputId": "75210178-8b94-4961-8f9c-47e791a463aa"
      },
      "source": [
        "print(out.shape)"
      ],
      "execution_count": null,
      "outputs": [
        {
          "output_type": "stream",
          "text": [
            "(1, 3)\n"
          ],
          "name": "stdout"
        }
      ]
    },
    {
      "cell_type": "code",
      "metadata": {
        "id": "_kKa495rikd7"
      },
      "source": [
        "out = np.array(out).reshape(1,-1)"
      ],
      "execution_count": null,
      "outputs": []
    },
    {
      "cell_type": "code",
      "metadata": {
        "id": "c2Bjo32OAK7H",
        "colab": {
          "base_uri": "https://localhost:8080/",
          "height": 414
        },
        "outputId": "b7c95a60-f9aa-4132-e528-8ad75f054c14"
      },
      "source": [
        "out = scaler.transform(out)"
      ],
      "execution_count": null,
      "outputs": [
        {
          "output_type": "error",
          "ename": "ValueError",
          "evalue": "ignored",
          "traceback": [
            "\u001b[0;31m---------------------------------------------------------------------------\u001b[0m",
            "\u001b[0;31mTypeError\u001b[0m                                 Traceback (most recent call last)",
            "\u001b[0;31mTypeError\u001b[0m: float() argument must be a string or a number, not 'list'",
            "\nThe above exception was the direct cause of the following exception:\n",
            "\u001b[0;31mValueError\u001b[0m                                Traceback (most recent call last)",
            "\u001b[0;32m<ipython-input-214-99a7e5660067>\u001b[0m in \u001b[0;36m<module>\u001b[0;34m()\u001b[0m\n\u001b[0;32m----> 1\u001b[0;31m \u001b[0mout\u001b[0m \u001b[0;34m=\u001b[0m \u001b[0mscaler\u001b[0m\u001b[0;34m.\u001b[0m\u001b[0mtransform\u001b[0m\u001b[0;34m(\u001b[0m\u001b[0mout\u001b[0m\u001b[0;34m)\u001b[0m\u001b[0;34m\u001b[0m\u001b[0;34m\u001b[0m\u001b[0m\n\u001b[0m",
            "\u001b[0;32m/usr/local/lib/python3.6/dist-packages/sklearn/preprocessing/_data.py\u001b[0m in \u001b[0;36mtransform\u001b[0;34m(self, X, copy)\u001b[0m\n\u001b[1;32m    793\u001b[0m         X = check_array(X, accept_sparse='csr', copy=copy,\n\u001b[1;32m    794\u001b[0m                         \u001b[0mestimator\u001b[0m\u001b[0;34m=\u001b[0m\u001b[0mself\u001b[0m\u001b[0;34m,\u001b[0m \u001b[0mdtype\u001b[0m\u001b[0;34m=\u001b[0m\u001b[0mFLOAT_DTYPES\u001b[0m\u001b[0;34m,\u001b[0m\u001b[0;34m\u001b[0m\u001b[0;34m\u001b[0m\u001b[0m\n\u001b[0;32m--> 795\u001b[0;31m                         force_all_finite='allow-nan')\n\u001b[0m\u001b[1;32m    796\u001b[0m \u001b[0;34m\u001b[0m\u001b[0m\n\u001b[1;32m    797\u001b[0m         \u001b[0;32mif\u001b[0m \u001b[0msparse\u001b[0m\u001b[0;34m.\u001b[0m\u001b[0missparse\u001b[0m\u001b[0;34m(\u001b[0m\u001b[0mX\u001b[0m\u001b[0;34m)\u001b[0m\u001b[0;34m:\u001b[0m\u001b[0;34m\u001b[0m\u001b[0;34m\u001b[0m\u001b[0m\n",
            "\u001b[0;32m/usr/local/lib/python3.6/dist-packages/sklearn/utils/validation.py\u001b[0m in \u001b[0;36mcheck_array\u001b[0;34m(array, accept_sparse, accept_large_sparse, dtype, order, copy, force_all_finite, ensure_2d, allow_nd, ensure_min_samples, ensure_min_features, warn_on_dtype, estimator)\u001b[0m\n\u001b[1;32m    529\u001b[0m                     \u001b[0marray\u001b[0m \u001b[0;34m=\u001b[0m \u001b[0marray\u001b[0m\u001b[0;34m.\u001b[0m\u001b[0mastype\u001b[0m\u001b[0;34m(\u001b[0m\u001b[0mdtype\u001b[0m\u001b[0;34m,\u001b[0m \u001b[0mcasting\u001b[0m\u001b[0;34m=\u001b[0m\u001b[0;34m\"unsafe\"\u001b[0m\u001b[0;34m,\u001b[0m \u001b[0mcopy\u001b[0m\u001b[0;34m=\u001b[0m\u001b[0;32mFalse\u001b[0m\u001b[0;34m)\u001b[0m\u001b[0;34m\u001b[0m\u001b[0;34m\u001b[0m\u001b[0m\n\u001b[1;32m    530\u001b[0m                 \u001b[0;32melse\u001b[0m\u001b[0;34m:\u001b[0m\u001b[0;34m\u001b[0m\u001b[0;34m\u001b[0m\u001b[0m\n\u001b[0;32m--> 531\u001b[0;31m                     \u001b[0marray\u001b[0m \u001b[0;34m=\u001b[0m \u001b[0mnp\u001b[0m\u001b[0;34m.\u001b[0m\u001b[0masarray\u001b[0m\u001b[0;34m(\u001b[0m\u001b[0marray\u001b[0m\u001b[0;34m,\u001b[0m \u001b[0morder\u001b[0m\u001b[0;34m=\u001b[0m\u001b[0morder\u001b[0m\u001b[0;34m,\u001b[0m \u001b[0mdtype\u001b[0m\u001b[0;34m=\u001b[0m\u001b[0mdtype\u001b[0m\u001b[0;34m)\u001b[0m\u001b[0;34m\u001b[0m\u001b[0;34m\u001b[0m\u001b[0m\n\u001b[0m\u001b[1;32m    532\u001b[0m             \u001b[0;32mexcept\u001b[0m \u001b[0mComplexWarning\u001b[0m\u001b[0;34m:\u001b[0m\u001b[0;34m\u001b[0m\u001b[0;34m\u001b[0m\u001b[0m\n\u001b[1;32m    533\u001b[0m                 raise ValueError(\"Complex data not supported\\n\"\n",
            "\u001b[0;32m/usr/local/lib/python3.6/dist-packages/numpy/core/_asarray.py\u001b[0m in \u001b[0;36masarray\u001b[0;34m(a, dtype, order)\u001b[0m\n\u001b[1;32m     83\u001b[0m \u001b[0;34m\u001b[0m\u001b[0m\n\u001b[1;32m     84\u001b[0m     \"\"\"\n\u001b[0;32m---> 85\u001b[0;31m     \u001b[0;32mreturn\u001b[0m \u001b[0marray\u001b[0m\u001b[0;34m(\u001b[0m\u001b[0ma\u001b[0m\u001b[0;34m,\u001b[0m \u001b[0mdtype\u001b[0m\u001b[0;34m,\u001b[0m \u001b[0mcopy\u001b[0m\u001b[0;34m=\u001b[0m\u001b[0;32mFalse\u001b[0m\u001b[0;34m,\u001b[0m \u001b[0morder\u001b[0m\u001b[0;34m=\u001b[0m\u001b[0morder\u001b[0m\u001b[0;34m)\u001b[0m\u001b[0;34m\u001b[0m\u001b[0;34m\u001b[0m\u001b[0m\n\u001b[0m\u001b[1;32m     86\u001b[0m \u001b[0;34m\u001b[0m\u001b[0m\n\u001b[1;32m     87\u001b[0m \u001b[0;34m\u001b[0m\u001b[0m\n",
            "\u001b[0;31mValueError\u001b[0m: setting an array element with a sequence."
          ]
        }
      ]
    },
    {
      "cell_type": "code",
      "metadata": {
        "colab": {
          "base_uri": "https://localhost:8080/"
        },
        "id": "xnsO9wcXksIl",
        "outputId": "1ac58942-11ef-4f01-f413-9e55fd25d75f"
      },
      "source": [
        "print(out)"
      ],
      "execution_count": null,
      "outputs": [
        {
          "output_type": "stream",
          "text": [
            "[[-0.90563813  1.08071684 -0.70828545  0.70666808  1.75769718]]\n"
          ],
          "name": "stdout"
        }
      ]
    },
    {
      "cell_type": "code",
      "metadata": {
        "id": "d4goe4j4PF_C"
      },
      "source": [
        "out0 = np.array(out[0])\n",
        "out1 = np.array(out[1])\n",
        "out2 = np.array(out[2])"
      ],
      "execution_count": null,
      "outputs": []
    },
    {
      "cell_type": "code",
      "metadata": {
        "id": "Tmoxt970Qf4a"
      },
      "source": [
        "out0 = out0.reshape(1,-1)\n",
        "out1 = out1.reshape(1,12,-1)\n",
        "out2 = out2.reshape(1,20,-1)"
      ],
      "execution_count": null,
      "outputs": []
    },
    {
      "cell_type": "code",
      "metadata": {
        "id": "jYhZAl63AOT4"
      },
      "source": [
        "y = modelnew.predict([out0,out1,out2])"
      ],
      "execution_count": null,
      "outputs": []
    },
    {
      "cell_type": "code",
      "metadata": {
        "id": "r7ogt4OhAToD",
        "colab": {
          "base_uri": "https://localhost:8080/"
        },
        "outputId": "deec58d3-ad23-42e5-8e37-0a43800b8557"
      },
      "source": [
        "#Выводим выход с softmax\n",
        "print(y)\n",
        "#И распознанный класс\n",
        "print(np.argmax(y))\n",
        "#Проверяем правильный индекс исходной группы\n",
        "print(DiplomeDrunkBase.index(\"basedrunk\"))"
      ],
      "execution_count": null,
      "outputs": [
        {
          "output_type": "stream",
          "text": [
            "[[0. 1.]]\n",
            "1\n",
            "0\n"
          ],
          "name": "stdout"
        }
      ]
    },
    {
      "cell_type": "markdown",
      "metadata": {
        "id": "SiwdlhmlODmw"
      },
      "source": [
        "### РАСПОЗНАВАНИЕ СОСТОЯНИЯ"
      ]
    },
    {
      "cell_type": "code",
      "metadata": {
        "colab": {
          "base_uri": "https://localhost:8080/"
        },
        "id": "S5sZLEckOQEw",
        "outputId": "9d88fae8-9ceb-4825-9721-5bbeb49d074f"
      },
      "source": [
        "songname = '/content/drive/MyDrive/pitonism/DiplomeDrunkBase/mybasesober/soberer (1).wav'\n",
        "out1 = []\n",
        "out2 = []\n",
        "out3 = []\n",
        "\n",
        "y, sr = librosa.load(songname, mono=True)\n",
        "#y = y[1000*sr:1004*sr]\n",
        "curr_time = time.time()    \n",
        "for j in range (int(len(y)//sr-4)):   \n",
        "\n",
        "     #Превращаем сигнал в параметризованные данные\n",
        "     #out, chroma_stft, mfcc = get_features(y, sr)\n",
        "     out, chroma_stft, mfcc = get_features(y[j*sr:(j+4)*sr], sr)\n",
        "     #Добавляем строку в X_train\n",
        "     out1.append(out)\n",
        "     out2.append(chroma_stft)\n",
        "     out3.append(mfcc)\n",
        "     #Добавляем в Y_train номер жанра в формате ohe\n",
        "      #Y_train.append(utils.to_categorical(i, len(DiplomeDrunkBase)))\n",
        "out1 = np.array(out1)\n",
        "out2 = np.array(out2)\n",
        "out3 = np.array(out3)\n",
        "#Выводим информацию о готовности обработки базы\n",
        "print(\"Состояние \", songname, \" готов -> \", round(time.time() - curr_time), \"c\", sep=\"\")"
      ],
      "execution_count": null,
      "outputs": [
        {
          "output_type": "stream",
          "text": [
            "Состояние /content/drive/MyDrive/pitonism/DiplomeDrunkBase/mybasesober/soberer (1).wav готов -> 2c\n"
          ],
          "name": "stdout"
        }
      ]
    },
    {
      "cell_type": "code",
      "metadata": {
        "id": "jngwNr0vQJkl"
      },
      "source": [
        "out1  =  np.array(out1/np.max(out1))\n",
        "out2 =  np.array(out2/np.max(out2))\n",
        "out3 =  np.array(out3/np.max(out3))\n",
        "y = modelnew.predict([out1,out2,out3,out3])\n"
      ],
      "execution_count": null,
      "outputs": []
    },
    {
      "cell_type": "code",
      "metadata": {
        "colab": {
          "base_uri": "https://localhost:8080/"
        },
        "id": "28mSM_jh1eXZ",
        "outputId": "a4ce226f-9c86-437a-ed4b-26f988d1135d"
      },
      "source": [
        "y"
      ],
      "execution_count": null,
      "outputs": [
        {
          "output_type": "execute_result",
          "data": {
            "text/plain": [
              "array([[1.0000000e+00, 1.5077879e-13],\n",
              "       [4.7829835e-28, 1.0000000e+00],\n",
              "       [8.4341403e-19, 1.0000000e+00],\n",
              "       [0.0000000e+00, 1.0000000e+00],\n",
              "       [1.0000000e+00, 1.1273098e-09],\n",
              "       [5.3060703e-27, 1.0000000e+00],\n",
              "       [0.0000000e+00, 1.0000000e+00],\n",
              "       [2.7159795e-01, 7.2840208e-01],\n",
              "       [1.3932800e-16, 1.0000000e+00],\n",
              "       [8.8365318e-04, 9.9911636e-01],\n",
              "       [3.9116787e-25, 1.0000000e+00],\n",
              "       [1.0577104e-07, 9.9999988e-01],\n",
              "       [6.1084148e-07, 9.9999940e-01],\n",
              "       [1.1235470e-20, 1.0000000e+00],\n",
              "       [9.0122454e-10, 1.0000000e+00],\n",
              "       [1.2353308e-36, 1.0000000e+00],\n",
              "       [1.0000000e+00, 7.7108211e-24],\n",
              "       [6.1708021e-21, 1.0000000e+00],\n",
              "       [1.0000000e+00, 8.3166742e-24],\n",
              "       [5.8924041e-07, 9.9999940e-01],\n",
              "       [9.9962556e-01, 3.7445794e-04],\n",
              "       [9.8527764e-09, 1.0000000e+00],\n",
              "       [9.9999857e-01, 1.4541901e-06],\n",
              "       [2.5290479e-19, 1.0000000e+00],\n",
              "       [2.3272483e-11, 1.0000000e+00],\n",
              "       [1.5014003e-16, 1.0000000e+00]], dtype=float32)"
            ]
          },
          "metadata": {
            "tags": []
          },
          "execution_count": 29
        }
      ]
    },
    {
      "cell_type": "code",
      "metadata": {
        "colab": {
          "base_uri": "https://localhost:8080/"
        },
        "id": "x0xYnU9oQXp6",
        "outputId": "79bbd81a-d227-4581-f28d-14fe531beab7"
      },
      "source": [
        "#Выводим выход с softmax\n",
        "print ('  НЕТРЕЗВЫЙ    ТРЕЗВЫЙ')\n",
        "yl,yr = np.split(y, [1], axis=1)\n",
        "#И распознанный класс\n",
        "print(np.mean(yl),'      ',np.mean(yr))"
      ],
      "execution_count": null,
      "outputs": [
        {
          "output_type": "stream",
          "text": [
            "  НЕТРЕЗВЫЙ    ТРЕЗВЫЙ\n",
            "0.24123488        0.7587651\n"
          ],
          "name": "stdout"
        }
      ]
    }
  ]
}